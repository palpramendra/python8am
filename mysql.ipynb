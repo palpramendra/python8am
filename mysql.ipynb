{
 "cells": [
  {
   "cell_type": "code",
   "execution_count": 1,
   "id": "6efcfe3d",
   "metadata": {},
   "outputs": [
    {
     "name": "stdout",
     "output_type": "stream",
     "text": [
      "Requirement already satisfied: mysql-connector in c:\\users\\om\\anaconda3\\lib\\site-packages (2.2.9)\n"
     ]
    }
   ],
   "source": [
    "!pip install mysql-connector"
   ]
  },
  {
   "cell_type": "code",
   "execution_count": 3,
   "id": "b0d60ad8",
   "metadata": {},
   "outputs": [],
   "source": [
    "import mysql.connector       #importing database\n",
    "\n",
    "database = mysql.connector.connect(\n",
    "host=\"localhost\",\n",
    "user=\"root\",\n",
    "password=\"\"\n",
    ")\n",
    "db = database.cursor()\n",
    "\n",
    "db.execute(\"CREATE DATABASE pythons\")"
   ]
  },
  {
   "cell_type": "code",
   "execution_count": 1,
   "id": "0352305e",
   "metadata": {},
   "outputs": [],
   "source": [
    "import mysql.connector        #importing database\n",
    "\n",
    "database = mysql.connector.connect(\n",
    "host=\"localhost\",\n",
    "user=\"root\",\n",
    "password=\"\",\n",
    "database='class8am'\n",
    ")\n",
    "db = database.cursor()\n"
   ]
  },
  {
   "cell_type": "code",
   "execution_count": 12,
   "id": "49eeed33",
   "metadata": {},
   "outputs": [
    {
     "name": "stdout",
     "output_type": "stream",
     "text": [
      "(1, 'joya nepali', 89.0, 67.0, 67.0, 89.0, 67.0, 500.0, 80.0, 'A')\n",
      "(2, 'sabin kc', 67.0, 76.0, 56.0, 67.0, 56.0, 450.0, 65.0, 'B')\n",
      "(3, 'prem', 45.0, 65.0, 56.0, 56.0, 45.0, 350.0, 50.0, 'C')\n",
      "(4, 'krishna', 45.0, 67.0, 67.0, 76.0, 56.0, 56.0, 77.0, 'c')\n",
      "(5, 'krishna', 45.0, 67.0, 67.0, 76.0, 56.0, 56.0, 77.0, 'c')\n"
     ]
    }
   ],
   "source": [
    "db.execute(\"SELECT * FROM student\")\n",
    "result =db.fetchall()\n",
    "for x in result:\n",
    "    print(x)\n",
    "        "
   ]
  },
  {
   "cell_type": "code",
   "execution_count": 8,
   "id": "2b67a792",
   "metadata": {},
   "outputs": [
    {
     "name": "stdout",
     "output_type": "stream",
     "text": [
      "(1, 'joya nepali', 500.0, 'A')\n",
      "(2, 'sabin kc', 450.0, 'B')\n",
      "(3, 'prem', 350.0, 'C')\n"
     ]
    }
   ],
   "source": [
    "db.execute(\"SELECT sn,name,total,grade FROM student\")\n",
    "result=db.fetchall()\n",
    "for x in result:\n",
    "    print(x)"
   ]
  },
  {
   "cell_type": "code",
   "execution_count": 2,
   "id": "657b0fa0",
   "metadata": {},
   "outputs": [],
   "source": [
    "sql='''INSERT INTO student (name, physics, chemistry, math, english, nepali, total, per, grade) \n",
    "VALUES ( 'krishna', 45, 67, 67, 76, 56, 56, 77, 'c');'''\n",
    "db.execute(sql)\n",
    "database.commit()\n"
   ]
  },
  {
   "cell_type": "code",
   "execution_count": 5,
   "id": "7dd30fb8",
   "metadata": {},
   "outputs": [
    {
     "name": "stdout",
     "output_type": "stream",
     "text": [
      "Enter name = pooja\n",
      "Enter physics marks = 34\n",
      "Enter chemistry marks = 43\n",
      "Enter math marks = 34\n",
      "Enter english marks = 34\n",
      "Enter nepali marks = 43\n"
     ]
    }
   ],
   "source": [
    "import mysql.connector        #importing database\n",
    "\n",
    "database = mysql.connector.connect(\n",
    "host=\"localhost\",\n",
    "user=\"root\",\n",
    "password=\"\",\n",
    "database='class8am'\n",
    ")\n",
    "db = database.cursor()\n",
    "\n",
    "\n",
    "name=input(\"Enter name = \")\n",
    "physics = int(input(\"Enter physics marks = \"))\n",
    "chemistry = int(input(\"Enter chemistry marks = \"))\n",
    "math = int(input(\"Enter math marks = \"))\n",
    "english = int(input(\"Enter english marks = \"))\n",
    "nepali = int(input(\"Enter nepali marks = \"))\n",
    "total = physics+phemistry+math+english+nepali\n",
    "per = total/5\n",
    "if per>=80:\n",
    "    grade='A'\n",
    "elif per>=60:\n",
    "    grade='B'\n",
    "elif per>=45:\n",
    "    grade='C'\n",
    "else:\n",
    "    grade='F'\n",
    "sql=f'''INSERT INTO student ( name, physics, chemistry, math, english, nepali, total, per, grade) \n",
    "VALUES ('{name}', {physics}, {chemistry},{math}, {english}, {nepali}, {total}, {per}, '{grade}');'''\n",
    "db.execute(sql)\n",
    "database.commit()\n"
   ]
  },
  {
   "cell_type": "code",
   "execution_count": 7,
   "id": "1ef473ea",
   "metadata": {},
   "outputs": [],
   "source": [
    "# Delete\n",
    "\n",
    "sql=\"DELETE FROM student WHERE sn=3\"\n",
    "db.execute(sql)\n",
    "database.commit()"
   ]
  },
  {
   "cell_type": "code",
   "execution_count": 9,
   "id": "991eb89e",
   "metadata": {},
   "outputs": [],
   "source": [
    "# update\n",
    "\n",
    "sql=\"UPDATE student SET name='poojari' WHERE name='pooja'\"\n",
    "db.execute(sql)\n",
    "database.commit()"
   ]
  },
  {
   "cell_type": "code",
   "execution_count": null,
   "id": "4d0eb855",
   "metadata": {},
   "outputs": [],
   "source": []
  }
 ],
 "metadata": {
  "kernelspec": {
   "display_name": "Python 3 (ipykernel)",
   "language": "python",
   "name": "python3"
  },
  "language_info": {
   "codemirror_mode": {
    "name": "ipython",
    "version": 3
   },
   "file_extension": ".py",
   "mimetype": "text/x-python",
   "name": "python",
   "nbconvert_exporter": "python",
   "pygments_lexer": "ipython3",
   "version": "3.9.12"
  }
 },
 "nbformat": 4,
 "nbformat_minor": 5
}
