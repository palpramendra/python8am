{
 "cells": [
  {
   "cell_type": "code",
   "execution_count": 1,
   "id": "3136f655",
   "metadata": {},
   "outputs": [],
   "source": [
    "# dictionary\n",
    "# index\n",
    "# duplicate value\n",
    "# ordered\n",
    "# mutable"
   ]
  },
  {
   "cell_type": "code",
   "execution_count": 2,
   "id": "e6f5e20f",
   "metadata": {},
   "outputs": [],
   "source": [
    "d = dict()\n",
    "d = {}"
   ]
  },
  {
   "cell_type": "code",
   "execution_count": 3,
   "id": "07c540db",
   "metadata": {},
   "outputs": [
    {
     "data": {
      "text/plain": [
       "{'a': 'apple', 'b': 'ball'}"
      ]
     },
     "execution_count": 3,
     "metadata": {},
     "output_type": "execute_result"
    }
   ],
   "source": [
    "d = {\"a\":\"apple\",\"b\":\"ball\"}\n",
    "d"
   ]
  },
  {
   "cell_type": "code",
   "execution_count": 5,
   "id": "eb62c5a5",
   "metadata": {},
   "outputs": [
    {
     "data": {
      "text/plain": [
       "'apple'"
      ]
     },
     "execution_count": 5,
     "metadata": {},
     "output_type": "execute_result"
    }
   ],
   "source": [
    "d['a']"
   ]
  },
  {
   "cell_type": "code",
   "execution_count": 6,
   "id": "879cdc1e",
   "metadata": {},
   "outputs": [
    {
     "data": {
      "text/plain": [
       "'ball'"
      ]
     },
     "execution_count": 6,
     "metadata": {},
     "output_type": "execute_result"
    }
   ],
   "source": [
    "d = {\"a\":\"apple\",\"b\":\"ball\"}\n",
    "d['b']"
   ]
  },
  {
   "cell_type": "code",
   "execution_count": 7,
   "id": "eeaa7bd9",
   "metadata": {},
   "outputs": [
    {
     "data": {
      "text/plain": [
       "'apple'"
      ]
     },
     "execution_count": 7,
     "metadata": {},
     "output_type": "execute_result"
    }
   ],
   "source": [
    "d = {\"a\":\"apple\",\"b\":\"ball\",'A':'apple'}\n",
    "d['A']\n"
   ]
  },
  {
   "cell_type": "code",
   "execution_count": 8,
   "id": "076fd542",
   "metadata": {},
   "outputs": [
    {
     "data": {
      "text/plain": [
       "{'a': 'Apple', 'b': 'ball'}"
      ]
     },
     "execution_count": 8,
     "metadata": {},
     "output_type": "execute_result"
    }
   ],
   "source": [
    "d = {\"a\":\"apple\",\"b\":\"ball\",'a':'Apple'}\n",
    "d"
   ]
  },
  {
   "cell_type": "code",
   "execution_count": 9,
   "id": "38c07452",
   "metadata": {},
   "outputs": [
    {
     "data": {
      "text/plain": [
       "{'a': 'Apple', 'b': 'ball', 'c': 'cat'}"
      ]
     },
     "execution_count": 9,
     "metadata": {},
     "output_type": "execute_result"
    }
   ],
   "source": [
    "d = {\"a\":\"apple\",\"b\":\"ball\",'a':'Apple'}\n",
    "d['c']='cat'\n",
    "d"
   ]
  },
  {
   "cell_type": "code",
   "execution_count": 10,
   "id": "53be40fd",
   "metadata": {},
   "outputs": [
    {
     "data": {
      "text/plain": [
       "{'a': 'apple', 'b': 'Ball'}"
      ]
     },
     "execution_count": 10,
     "metadata": {},
     "output_type": "execute_result"
    }
   ],
   "source": [
    "d = {}\n",
    "d['a']='apple'\n",
    "d['b']='Ball'\n",
    "d"
   ]
  },
  {
   "cell_type": "code",
   "execution_count": 11,
   "id": "1f69a853",
   "metadata": {},
   "outputs": [
    {
     "name": "stdout",
     "output_type": "stream",
     "text": [
      "Enter n = 2\n",
      "Enter name = prem\n",
      "Enter phone = 98765456\n",
      "Enter name = shyam\n",
      "Enter phone = 987543456\n",
      "{'prem': '98765456', 'shyam': '987543456'}\n"
     ]
    }
   ],
   "source": [
    "d = {}\n",
    "n = int(input(\"Enter n = \"))\n",
    "for i in range(n):\n",
    "    name = input(\"Enter name = \")\n",
    "    phone = input(\"Enter phone = \")\n",
    "    d[name] = phone\n",
    "    \n",
    "print(d)"
   ]
  },
  {
   "cell_type": "code",
   "execution_count": 12,
   "id": "829e3d9c",
   "metadata": {},
   "outputs": [
    {
     "name": "stdout",
     "output_type": "stream",
     "text": [
      "prem\n",
      "shyam\n"
     ]
    }
   ],
   "source": [
    "d = {'prem': '98765456', 'shyam': '987543456'}\n",
    "for i in d:\n",
    "    print(i)"
   ]
  },
  {
   "cell_type": "code",
   "execution_count": 13,
   "id": "51a3ef4b",
   "metadata": {},
   "outputs": [
    {
     "name": "stdout",
     "output_type": "stream",
     "text": [
      "98765456\n",
      "987543456\n"
     ]
    }
   ],
   "source": [
    "d = {'prem': '98765456', 'shyam': '987543456'}\n",
    "for i in d.values():\n",
    "    print(i)"
   ]
  },
  {
   "cell_type": "code",
   "execution_count": 14,
   "id": "17a3b3ad",
   "metadata": {},
   "outputs": [
    {
     "name": "stdout",
     "output_type": "stream",
     "text": [
      "('prem', '98765456')\n",
      "('shyam', '987543456')\n"
     ]
    }
   ],
   "source": [
    "d = {'prem': '98765456', 'shyam': '987543456'}\n",
    "for i in d.items():\n",
    "    print(i)"
   ]
  },
  {
   "cell_type": "code",
   "execution_count": 19,
   "id": "4bfa515a",
   "metadata": {},
   "outputs": [
    {
     "name": "stdout",
     "output_type": "stream",
     "text": [
      "[('prem', '98765456'), ('shyam', '987543456')]\n"
     ]
    }
   ],
   "source": [
    "l=[]\n",
    "d = {'prem': '98765456', 'shyam': '987543456'}\n",
    "for i in d.items():\n",
    "    l.append(i)\n",
    "    \n",
    "print(l)"
   ]
  },
  {
   "cell_type": "code",
   "execution_count": 20,
   "id": "44a93784",
   "metadata": {},
   "outputs": [
    {
     "data": {
      "text/plain": [
       "{'prem': '98765456', 'shyam': '987543456'}"
      ]
     },
     "execution_count": 20,
     "metadata": {},
     "output_type": "execute_result"
    }
   ],
   "source": [
    "dict(l)"
   ]
  },
  {
   "cell_type": "code",
   "execution_count": 21,
   "id": "bb270e64",
   "metadata": {},
   "outputs": [
    {
     "data": {
      "text/plain": [
       "{'shyam': '987543456'}"
      ]
     },
     "execution_count": 21,
     "metadata": {},
     "output_type": "execute_result"
    }
   ],
   "source": [
    "# del\n",
    "d = {'prem': '98765456', 'shyam': '987543456'}\n",
    "del d['prem']\n",
    "d"
   ]
  },
  {
   "cell_type": "code",
   "execution_count": 22,
   "id": "7a8258d5",
   "metadata": {},
   "outputs": [
    {
     "name": "stdout",
     "output_type": "stream",
     "text": [
      "9862345\n",
      "{'prem': '98765456', 'shyam': '987543456'}\n"
     ]
    }
   ],
   "source": [
    "# pop()\n",
    "\n",
    "d = {'ram':'9862345','prem': '98765456', 'shyam': '987543456'}\n",
    "c = d.pop('ram')\n",
    "print(c)\n",
    "print(d)\n"
   ]
  },
  {
   "cell_type": "code",
   "execution_count": 24,
   "id": "08883cd5",
   "metadata": {},
   "outputs": [
    {
     "data": {
      "text/plain": [
       "{'ram': ['9862345', '987543212300'], 'prem': '98765456', 'shyam': '987543456'}"
      ]
     },
     "execution_count": 24,
     "metadata": {},
     "output_type": "execute_result"
    }
   ],
   "source": [
    "# list inside dictionary\n",
    "\n",
    "d = {'ram':['9862345','987543212300'],'prem': '98765456', 'shyam': '987543456'}\n",
    "d"
   ]
  },
  {
   "cell_type": "code",
   "execution_count": 26,
   "id": "8db605de",
   "metadata": {},
   "outputs": [
    {
     "name": "stdout",
     "output_type": "stream",
     "text": [
      "Enter n = 2\n",
      "Enter name = shyam\n",
      "Enter ntc phone = 071-4234234\n",
      "Enter ncell phone = 983442423\n",
      "Enter name = hari\n",
      "Enter ntc phone = 071834423\n",
      "Enter ncell phone = 982364234\n",
      "{'shyam': ['071-4234234', '983442423'], 'hari': ['071834423', '982364234']}\n"
     ]
    }
   ],
   "source": [
    "d = {}\n",
    "n = int(input(\"Enter n = \"))\n",
    "for i in range(n):\n",
    "    name = input(\"Enter name = \")\n",
    "    ntc_phone = input(\"Enter ntc phone = \")\n",
    "    ncell_phone = input(\"Enter ncell phone = \")\n",
    "    d[name] = [ntc_phone,ncell_phone]\n",
    "    \n",
    "print(d)"
   ]
  },
  {
   "cell_type": "code",
   "execution_count": 27,
   "id": "993e6c2a",
   "metadata": {},
   "outputs": [
    {
     "name": "stdout",
     "output_type": "stream",
     "text": [
      "Enter n = 2\n",
      "Enter name = shyam\n",
      "Enter ntc phone = 071983343\n",
      "Enter ncell phone = \n",
      "Enter name = hari\n",
      "Enter ntc phone = 071-827332\n",
      "Enter ncell phone = 982342342\n",
      "{'shyam': ['071983343', ''], 'hari': ['071-827332', '982342342']}\n"
     ]
    }
   ],
   "source": [
    "d = {}\n",
    "n = int(input(\"Enter n = \"))\n",
    "for i in range(n):\n",
    "    name = input(\"Enter name = \")\n",
    "    ntc_phone = input(\"Enter ntc phone = \")\n",
    "    ncell_phone = input(\"Enter ncell phone = \")\n",
    "    d[name] = [ntc_phone,ncell_phone]\n",
    "    \n",
    "print(d)\n"
   ]
  },
  {
   "cell_type": "code",
   "execution_count": 28,
   "id": "2cf3d309",
   "metadata": {},
   "outputs": [
    {
     "data": {
      "text/plain": [
       "{'shyam': ['071983343', ''],\n",
       " 'hari': ['071-827332', '982342342'],\n",
       " 'prem': ['0712123', '98323123']}"
      ]
     },
     "execution_count": 28,
     "metadata": {},
     "output_type": "execute_result"
    }
   ],
   "source": [
    "d = {'shyam': ['071983343', ''], 'hari': ['071-827332', '982342342']}\n",
    "d['prem']=['0712123','98323123']\n",
    "d"
   ]
  },
  {
   "cell_type": "code",
   "execution_count": 30,
   "id": "b07b68e5",
   "metadata": {},
   "outputs": [
    {
     "data": {
      "text/plain": [
       "{'shyam': ['071983343', '', '982343242'], 'hari': ['071-827332', '982342342']}"
      ]
     },
     "execution_count": 30,
     "metadata": {},
     "output_type": "execute_result"
    }
   ],
   "source": [
    "d = {'shyam': ['071983343', ''], 'hari': ['071-827332', '982342342']}\n",
    "d['shyam'].append('982343242')\n",
    "d"
   ]
  },
  {
   "cell_type": "code",
   "execution_count": 34,
   "id": "fcba47af",
   "metadata": {},
   "outputs": [
    {
     "data": {
      "text/plain": [
       "{'shyam': ['071983343', '982343242'], 'hari': ['071-827332', '982342342']}"
      ]
     },
     "execution_count": 34,
     "metadata": {},
     "output_type": "execute_result"
    }
   ],
   "source": [
    "d ={'shyam': ['071983343', '', '982343242'], 'hari': ['071-827332', '982342342']}\n",
    "del d['shyam'][1]\n",
    "d"
   ]
  },
  {
   "cell_type": "code",
   "execution_count": 35,
   "id": "09767018",
   "metadata": {},
   "outputs": [
    {
     "data": {
      "text/plain": [
       "{'name': ['ram', 'shyam', 'hari'],\n",
       " 'age': ['20', '24', '46'],\n",
       " 'add': ['ktm', 'bhw', 'btl']}"
      ]
     },
     "execution_count": 35,
     "metadata": {},
     "output_type": "execute_result"
    }
   ],
   "source": [
    "d = {'name':['ram','shyam','hari'],'age':['20','24','46'],'add':['ktm','bhw','btl']}\n",
    "d"
   ]
  },
  {
   "cell_type": "code",
   "execution_count": 36,
   "id": "2a51a6bd",
   "metadata": {},
   "outputs": [
    {
     "data": {
      "text/plain": [
       "{'name': ['ram', 'shyam', 'hari', 'prem'],\n",
       " 'age': ['20', '24', '46', '25'],\n",
       " 'add': ['ktm', 'bhw', 'btl', 'bhw']}"
      ]
     },
     "execution_count": 36,
     "metadata": {},
     "output_type": "execute_result"
    }
   ],
   "source": [
    "d = {'name':['ram','shyam','hari'],'age':['20','24','46'],'add':['ktm','bhw','btl']}\n",
    "d['name'].append('prem')\n",
    "d['age'].append('25')\n",
    "d['add'].append('bhw')\n",
    "d"
   ]
  },
  {
   "cell_type": "code",
   "execution_count": 37,
   "id": "fa0979ec",
   "metadata": {},
   "outputs": [
    {
     "data": {
      "text/plain": [
       "[{'name': 'ram', 'age': '25', 'add': 'ktm'},\n",
       " {'name': 'rama', 'age': '27', 'add': 'rara'},\n",
       " {'name': 'raman', 'age': '20', 'add': 'kalika'}]"
      ]
     },
     "execution_count": 37,
     "metadata": {},
     "output_type": "execute_result"
    }
   ],
   "source": [
    "# dict inside list\n",
    "\n",
    "l = [{'name':'ram','age':'25','add':'ktm'},\n",
    "    {'name':'rama','age':'27','add':'rara'},\n",
    "    {'name':'raman','age':'20','add':'kalika'}]\n",
    "l\n"
   ]
  },
  {
   "cell_type": "code",
   "execution_count": 38,
   "id": "c9c71536",
   "metadata": {},
   "outputs": [
    {
     "name": "stdout",
     "output_type": "stream",
     "text": [
      "Enter n = 2\n",
      "Enter name = prem\n",
      "Enter age = 34\n",
      "Enter add = bhw\n",
      "Enter name = maya\n",
      "Enter age = 22\n",
      "Enter add = ktm\n"
     ]
    },
    {
     "data": {
      "text/plain": [
       "[{'name': 'prem', 'age': 34, 'add': 'bhw'},\n",
       " {'name': 'maya', 'age': 22, 'add': 'ktm'}]"
      ]
     },
     "execution_count": 38,
     "metadata": {},
     "output_type": "execute_result"
    }
   ],
   "source": [
    "l = []\n",
    "n = int(input(\"Enter n = \"))\n",
    "for i in range(n):\n",
    "    name=input(\"Enter name = \")\n",
    "    age=int(input(\"Enter age = \"))\n",
    "    add=input(\"Enter add = \")\n",
    "    d={'name':name,'age':age,'add':add}\n",
    "    l.append(d)\n",
    "    \n",
    "l"
   ]
  },
  {
   "cell_type": "code",
   "execution_count": 39,
   "id": "41e7df57",
   "metadata": {},
   "outputs": [],
   "source": [
    "l[0]['name']='prema'"
   ]
  },
  {
   "cell_type": "code",
   "execution_count": 40,
   "id": "3f12598d",
   "metadata": {},
   "outputs": [
    {
     "data": {
      "text/plain": [
       "[{'name': 'maya', 'age': 22, 'add': 'ktm'}]"
      ]
     },
     "execution_count": 40,
     "metadata": {},
     "output_type": "execute_result"
    }
   ],
   "source": [
    "del l[0]\n",
    "l"
   ]
  },
  {
   "cell_type": "code",
   "execution_count": 45,
   "id": "f795bc90",
   "metadata": {},
   "outputs": [
    {
     "data": {
      "text/plain": [
       "{1: {'name': 'ram', 'grade': 'A'}, 2: {'name': 'pooja', 'grade': 'B'}}"
      ]
     },
     "execution_count": 45,
     "metadata": {},
     "output_type": "execute_result"
    }
   ],
   "source": [
    "# dict inside dict\n",
    "\n",
    "d = {1:{\"name\":\"ram\",\"grade\":\"A\"},\n",
    "    2:{\"name\":\"pooja\",\"grade\":\"B\"}}\n",
    "d"
   ]
  },
  {
   "cell_type": "code",
   "execution_count": 1,
   "id": "244c3c4f",
   "metadata": {},
   "outputs": [
    {
     "data": {
      "text/plain": [
       "{1: {'name': 'ram', 'grade': 'A'}, 2: {'name': 'pooja', 'grade': 'B'}}"
      ]
     },
     "execution_count": 1,
     "metadata": {},
     "output_type": "execute_result"
    }
   ],
   "source": [
    "d = {}\n",
    "d[1]={\"name\":\"ram\",\"grade\":\"A\"}\n",
    "d[2]={\"name\":\"pooja\",\"grade\":\"B\"}\n",
    "d"
   ]
  },
  {
   "cell_type": "code",
   "execution_count": null,
   "id": "437fba08",
   "metadata": {},
   "outputs": [],
   "source": []
  }
 ],
 "metadata": {
  "kernelspec": {
   "display_name": "Python 3 (ipykernel)",
   "language": "python",
   "name": "python3"
  },
  "language_info": {
   "codemirror_mode": {
    "name": "ipython",
    "version": 3
   },
   "file_extension": ".py",
   "mimetype": "text/x-python",
   "name": "python",
   "nbconvert_exporter": "python",
   "pygments_lexer": "ipython3",
   "version": "3.9.12"
  }
 },
 "nbformat": 4,
 "nbformat_minor": 5
}
