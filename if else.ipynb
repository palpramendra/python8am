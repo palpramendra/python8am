{
 "cells": [
  {
   "cell_type": "code",
   "execution_count": 1,
   "id": "40b667dd",
   "metadata": {},
   "outputs": [],
   "source": [
    "# if <condition>:\n",
    "#     <operation>\n",
    "# elif <condition>:\n",
    "#     <operation>\n",
    "# ....\n",
    "# else:\n",
    "#     <operator>"
   ]
  },
  {
   "cell_type": "code",
   "execution_count": 2,
   "id": "b84c2d4f",
   "metadata": {},
   "outputs": [
    {
     "data": {
      "text/plain": [
       "False"
      ]
     },
     "execution_count": 2,
     "metadata": {},
     "output_type": "execute_result"
    }
   ],
   "source": [
    "a = 12\n",
    "b = 34\n",
    "a>b"
   ]
  },
  {
   "cell_type": "code",
   "execution_count": 11,
   "id": "8020592f",
   "metadata": {},
   "outputs": [
    {
     "name": "stdout",
     "output_type": "stream",
     "text": [
      "Enter a number : 33\n",
      "33 Number is odd\n"
     ]
    }
   ],
   "source": [
    "a = int(input(\"Enter a number : \"))\n",
    "if (a%2==0):\n",
    "    print(a,\"Number is even\")\n",
    "else:\n",
    "    print(a,\"Number is odd\")"
   ]
  },
  {
   "cell_type": "code",
   "execution_count": 12,
   "id": "fe8dbffa",
   "metadata": {},
   "outputs": [],
   "source": [
    "# < > <= >= !="
   ]
  },
  {
   "cell_type": "code",
   "execution_count": 18,
   "id": "2bc8dd94",
   "metadata": {},
   "outputs": [
    {
     "name": "stdout",
     "output_type": "stream",
     "text": [
      "Enter a : 43\n",
      "Enter b : 32\n",
      "A is greater\n"
     ]
    }
   ],
   "source": [
    "a = int(input(\"Enter a : \"))\n",
    "b = int(input(\"Enter b : \"))\n",
    "if (a>b):\n",
    "    print(\"A is greater\")\n",
    "elif (b>a):\n",
    "    print(\"B is greater\")\n",
    "else:\n",
    "    print(\"both are equal\")"
   ]
  },
  {
   "cell_type": "code",
   "execution_count": 23,
   "id": "c01caa52",
   "metadata": {},
   "outputs": [
    {
     "name": "stdout",
     "output_type": "stream",
     "text": [
      "Enter a : 12\n",
      "Enter b : 12\n",
      "Enter + - * / /\n",
      "1.0\n"
     ]
    }
   ],
   "source": [
    "a = int(input(\"Enter a : \"))\n",
    "b = int(input(\"Enter b : \"))\n",
    "o = input(\"Enter + - * / \")\n",
    "if o=='+':\n",
    "    print(a+b)\n",
    "elif o=='-':\n",
    "    print(a-b)\n",
    "elif o=='*':\n",
    "    print(a*b)\n",
    "elif o=='/':\n",
    "    print(a/b)\n",
    "else:\n",
    "    printt(\"Invalid operator\")\n",
    "\n",
    "        "
   ]
  },
  {
   "cell_type": "code",
   "execution_count": 24,
   "id": "140c680d",
   "metadata": {},
   "outputs": [],
   "source": [
    "# and &\n",
    "# or |\n"
   ]
  },
  {
   "cell_type": "code",
   "execution_count": 25,
   "id": "e6ebcca1",
   "metadata": {},
   "outputs": [
    {
     "data": {
      "text/plain": [
       "False"
      ]
     },
     "execution_count": 25,
     "metadata": {},
     "output_type": "execute_result"
    }
   ],
   "source": [
    "True and False"
   ]
  },
  {
   "cell_type": "code",
   "execution_count": 6,
   "id": "60f35818",
   "metadata": {},
   "outputs": [
    {
     "data": {
      "text/plain": [
       "True"
      ]
     },
     "execution_count": 6,
     "metadata": {},
     "output_type": "execute_result"
    }
   ],
   "source": [
    "True & True"
   ]
  },
  {
   "cell_type": "code",
   "execution_count": 1,
   "id": "d31a47d9",
   "metadata": {},
   "outputs": [
    {
     "data": {
      "text/plain": [
       "False"
      ]
     },
     "execution_count": 1,
     "metadata": {},
     "output_type": "execute_result"
    }
   ],
   "source": [
    "False and False"
   ]
  },
  {
   "cell_type": "code",
   "execution_count": 3,
   "id": "2c539378",
   "metadata": {},
   "outputs": [
    {
     "data": {
      "text/plain": [
       "True"
      ]
     },
     "execution_count": 3,
     "metadata": {},
     "output_type": "execute_result"
    }
   ],
   "source": [
    "True or True"
   ]
  },
  {
   "cell_type": "code",
   "execution_count": 4,
   "id": "741a8c0e",
   "metadata": {},
   "outputs": [
    {
     "data": {
      "text/plain": [
       "True"
      ]
     },
     "execution_count": 4,
     "metadata": {},
     "output_type": "execute_result"
    }
   ],
   "source": [
    "True or False"
   ]
  },
  {
   "cell_type": "code",
   "execution_count": 5,
   "id": "0c51eb7e",
   "metadata": {},
   "outputs": [
    {
     "data": {
      "text/plain": [
       "False"
      ]
     },
     "execution_count": 5,
     "metadata": {},
     "output_type": "execute_result"
    }
   ],
   "source": [
    "False | False"
   ]
  },
  {
   "cell_type": "code",
   "execution_count": 13,
   "id": "a9f330cc",
   "metadata": {},
   "outputs": [
    {
     "name": "stdout",
     "output_type": "stream",
     "text": [
      "Enter a : 12\n",
      "Enter b : 0\n",
      "Enter + - * / /\n",
      "The value of b can not be zero\n"
     ]
    }
   ],
   "source": [
    "a = int(input(\"Enter a : \"))\n",
    "b = int(input(\"Enter b : \"))\n",
    "o = input(\"Enter + - * / \")\n",
    "if o=='+':\n",
    "    print(a+b)\n",
    "elif o=='-':\n",
    "    print(a-b)\n",
    "elif o=='*':\n",
    "    print(a*b)\n",
    "elif (o=='/') and (b != 0):\n",
    "    print(a/b)\n",
    "elif (o=='/') and (b == 0):\n",
    "    print(\"The value of b can not be zero\")\n",
    "else:\n",
    "    print(\"Invalid operator\")"
   ]
  },
  {
   "cell_type": "code",
   "execution_count": 14,
   "id": "487b44eb",
   "metadata": {},
   "outputs": [
    {
     "name": "stdout",
     "output_type": "stream",
     "text": [
      "Enter physics marks = 43\n",
      "Enter chemistry marks = 54\n",
      "Enter math marks = 64\n",
      "Enter english marks = 56\n",
      "Enter nepali marks = 65\n",
      "Grade = c\n"
     ]
    }
   ],
   "source": [
    "physics = int(input(\"Enter physics marks = \"))\n",
    "phemistry = int(input(\"Enter chemistry marks = \"))\n",
    "math = int(input(\"Enter math marks = \"))\n",
    "english = int(input(\"Enter english marks = \"))\n",
    "nepali = int(input(\"Enter nepali marks = \"))\n",
    "total = physics+phemistry+math+english+nepali\n",
    "per = total/5\n",
    "if per>80 or per ==80:\n",
    "    print(\"Grade = A\")\n",
    "elif per>60 or per ==60:\n",
    "    print(\"Grade = B\")\n",
    "elif per>45 or per ==45:\n",
    "    print(\"Grade = c\")\n",
    "else:\n",
    "    print(\"Grade = F\")"
   ]
  },
  {
   "cell_type": "code",
   "execution_count": null,
   "id": "db93bb6f",
   "metadata": {},
   "outputs": [],
   "source": []
  }
 ],
 "metadata": {
  "kernelspec": {
   "display_name": "Python 3 (ipykernel)",
   "language": "python",
   "name": "python3"
  },
  "language_info": {
   "codemirror_mode": {
    "name": "ipython",
    "version": 3
   },
   "file_extension": ".py",
   "mimetype": "text/x-python",
   "name": "python",
   "nbconvert_exporter": "python",
   "pygments_lexer": "ipython3",
   "version": "3.9.12"
  }
 },
 "nbformat": 4,
 "nbformat_minor": 5
}
