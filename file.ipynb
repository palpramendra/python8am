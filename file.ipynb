{
 "cells": [
  {
   "cell_type": "code",
   "execution_count": 1,
   "id": "eabb0ac6",
   "metadata": {},
   "outputs": [],
   "source": [
    "# file = open('<file_path>','<mode>')\n",
    "# file.close()"
   ]
  },
  {
   "cell_type": "code",
   "execution_count": 2,
   "id": "41f05f77",
   "metadata": {},
   "outputs": [],
   "source": [
    "# with open('<file_name>','<mode>') as file:\n",
    "#     <operation>"
   ]
  },
  {
   "cell_type": "code",
   "execution_count": 3,
   "id": "909fd0e1",
   "metadata": {},
   "outputs": [],
   "source": [
    "# mode\n",
    "# read ->'r'\n",
    "# create ->'x'\n",
    "# write -> 'w'\n",
    "# append -> 'a'\n"
   ]
  },
  {
   "cell_type": "code",
   "execution_count": 6,
   "id": "38e17298",
   "metadata": {},
   "outputs": [
    {
     "name": "stdout",
     "output_type": "stream",
     "text": [
      "the file is alredy crated\n"
     ]
    }
   ],
   "source": [
    "try:\n",
    "    file =open('new_file.txt','x')\n",
    "    file.close()\n",
    "except:\n",
    "    print(\"the file is alredy crated\")"
   ]
  },
  {
   "cell_type": "code",
   "execution_count": 3,
   "id": "8c83cc92",
   "metadata": {},
   "outputs": [
    {
     "name": "stdout",
     "output_type": "stream",
     "text": [
      "1.hello world\n",
      "2.hello world\n",
      "3.hello world\n",
      "4.hello world\n",
      "5.hello world\n",
      "6.hello world\n",
      "7.hello world\n",
      "<class 'str'>\n"
     ]
    }
   ],
   "source": [
    "# read file\n",
    "\n",
    "file=open('new_file.txt','r')\n",
    "x=file.read()\n",
    "print(x)\n",
    "print(type(x))\n",
    "file.close()"
   ]
  },
  {
   "cell_type": "raw",
   "id": "69b18b5d",
   "metadata": {},
   "source": []
  },
  {
   "cell_type": "code",
   "execution_count": 5,
   "id": "d5330f16",
   "metadata": {},
   "outputs": [
    {
     "name": "stdout",
     "output_type": "stream",
     "text": [
      "enter n = 2\n"
     ]
    },
    {
     "data": {
      "text/plain": [
       "'2.hello world'"
      ]
     },
     "execution_count": 5,
     "metadata": {},
     "output_type": "execute_result"
    }
   ],
   "source": [
    "n = int(input(\"enter n = \"))\n",
    "x.split('\\n')[n-1]"
   ]
  },
  {
   "cell_type": "code",
   "execution_count": 6,
   "id": "13e8ebde",
   "metadata": {},
   "outputs": [],
   "source": [
    "# no create file 'w' create file and also save text\n",
    "\n",
    "with open('data.txt','w') as file:\n",
    "    file.write('hello world')"
   ]
  },
  {
   "cell_type": "code",
   "execution_count": 7,
   "id": "d9b83ae6",
   "metadata": {},
   "outputs": [
    {
     "name": "stdout",
     "output_type": "stream",
     "text": [
      "Enter n = 2\n",
      "Enter name = prem\n",
      "Enter age = 25\n",
      "Enter adddress = bhw\n",
      "Enter name = manya\n",
      "Enter age = 23\n",
      "Enter adddress = ktm\n"
     ]
    }
   ],
   "source": [
    "s=\"\"\n",
    "n=int(input(\"Enter n = \"))\n",
    "for i in range(n):\n",
    "    name=input(\"Enter name = \")\n",
    "    age=int(input(\"Enter age = \"))\n",
    "    add=input(\"Enter adddress = \")\n",
    "    s=s+f\"{name} {age} {add}\\n\"\n",
    "    \n",
    "    with open (\"data.txt\",'w') as file:\n",
    "        file.write(s)\n",
    "    "
   ]
  },
  {
   "cell_type": "code",
   "execution_count": 8,
   "id": "de78103d",
   "metadata": {},
   "outputs": [],
   "source": [
    "# for see path : pwd"
   ]
  },
  {
   "cell_type": "code",
   "execution_count": 9,
   "id": "3ca8a9e1",
   "metadata": {},
   "outputs": [
    {
     "data": {
      "text/plain": [
       "'C:\\\\Users\\\\om\\\\Class8am'"
      ]
     },
     "execution_count": 9,
     "metadata": {},
     "output_type": "execute_result"
    }
   ],
   "source": [
    "pwd"
   ]
  },
  {
   "cell_type": "code",
   "execution_count": 10,
   "id": "8d9d22f5",
   "metadata": {},
   "outputs": [
    {
     "name": "stdout",
     "output_type": "stream",
     "text": [
      "Enter n = 2\n",
      "Enter name = apple\n",
      "Enter age = 23\n",
      "Enter adddress = ktm\n",
      "apple 23 ktm\n",
      "\n",
      "Enter name = mango\n",
      "Enter age = 34\n",
      "Enter adddress = 54\n",
      "apple 23 ktm\n",
      "mango 34 54\n",
      "\n"
     ]
    }
   ],
   "source": [
    "s=\"\"\n",
    "bill=str()\n",
    "n=int(input(\"Enter n = \"))\n",
    "for i in range(n):\n",
    "    name=input(\"Enter name = \")\n",
    "    age=int(input(\"Enter age = \"))\n",
    "    add=input(\"Enter adddress = \")\n",
    "    s=s+f\"{name} {age} {add}\\n\"\n",
    "    s=s+bill\n",
    "    print(s)\n",
    "    with open (\"data.txt\",'w') as file:\n",
    "        file.write(s)"
   ]
  },
  {
   "cell_type": "code",
   "execution_count": 1,
   "id": "73b63c09",
   "metadata": {},
   "outputs": [
    {
     "name": "stdout",
     "output_type": "stream",
     "text": [
      "Enter n = 2\n",
      "Enter name = mango\n",
      "Enter price = 100\n",
      "Enter qty = 20\n",
      "mango,100,20,2000\n",
      "\n",
      "Enter name = apple\n",
      "Enter price = 200\n",
      "Enter qty = 10\n",
      "mango,100,20,2000\n",
      "apple,200,10,2000\n",
      "\n"
     ]
    }
   ],
   "source": [
    "# csv file\n",
    "\n",
    "s=str()\n",
    "n=int(input(\"Enter n = \"))\n",
    "for i in range(n):\n",
    "    name=input(\"Enter name = \")\n",
    "    price=int(input(\"Enter price = \"))\n",
    "    qty=int(input(\"Enter qty = \"))\n",
    "    \n",
    "    total=price*qty\n",
    "    bill=f\"{name},{price},{qty},{total}\\n\"\n",
    "    s=s+bill\n",
    "    \n",
    "    print(s)\n",
    "    with open (\"data.csv\",'w') as file:\n",
    "        file.write('name,price,qty,total\\n')\n",
    "        file.write(s)"
   ]
  },
  {
   "cell_type": "code",
   "execution_count": 2,
   "id": "a2c473ab",
   "metadata": {},
   "outputs": [
    {
     "data": {
      "text/html": [
       "<div>\n",
       "<style scoped>\n",
       "    .dataframe tbody tr th:only-of-type {\n",
       "        vertical-align: middle;\n",
       "    }\n",
       "\n",
       "    .dataframe tbody tr th {\n",
       "        vertical-align: top;\n",
       "    }\n",
       "\n",
       "    .dataframe thead th {\n",
       "        text-align: right;\n",
       "    }\n",
       "</style>\n",
       "<table border=\"1\" class=\"dataframe\">\n",
       "  <thead>\n",
       "    <tr style=\"text-align: right;\">\n",
       "      <th></th>\n",
       "      <th>name</th>\n",
       "      <th>price</th>\n",
       "      <th>qty</th>\n",
       "      <th>total</th>\n",
       "    </tr>\n",
       "  </thead>\n",
       "  <tbody>\n",
       "    <tr>\n",
       "      <th>0</th>\n",
       "      <td>mango</td>\n",
       "      <td>100</td>\n",
       "      <td>20</td>\n",
       "      <td>2000</td>\n",
       "    </tr>\n",
       "    <tr>\n",
       "      <th>1</th>\n",
       "      <td>apple</td>\n",
       "      <td>200</td>\n",
       "      <td>10</td>\n",
       "      <td>2000</td>\n",
       "    </tr>\n",
       "  </tbody>\n",
       "</table>\n",
       "</div>"
      ],
      "text/plain": [
       "    name  price  qty  total\n",
       "0  mango    100   20   2000\n",
       "1  apple    200   10   2000"
      ]
     },
     "execution_count": 2,
     "metadata": {},
     "output_type": "execute_result"
    }
   ],
   "source": [
    "# pip install pandas\n",
    "# pandas is package\n",
    "import pandas as pd\n",
    "df=pd.read_csv('data.csv')\n",
    "df"
   ]
  },
  {
   "cell_type": "code",
   "execution_count": 1,
   "id": "92256639",
   "metadata": {},
   "outputs": [],
   "source": [
    "import csv\n",
    "a=[['momo',200,10,200],\n",
    "   ['cake',100,500,5000]]\n",
    "with open('bill.csv','w') as file:\n",
    "    x=csv.writer(file)\n",
    "    x.writerows(a)"
   ]
  },
  {
   "cell_type": "code",
   "execution_count": 2,
   "id": "99ad62f6",
   "metadata": {},
   "outputs": [
    {
     "data": {
      "text/plain": [
       "[{'momo': 'cake', '200': '5000', '10': '500'}]"
      ]
     },
     "execution_count": 2,
     "metadata": {},
     "output_type": "execute_result"
    }
   ],
   "source": [
    "import csv\n",
    "data=[]\n",
    "with open('bill.csv','r') as file:\n",
    "    reader=csv.DictReader(file)\n",
    "    for i in reader:\n",
    "        data.append(i)\n",
    "        \n",
    "data"
   ]
  },
  {
   "cell_type": "code",
   "execution_count": 3,
   "id": "1e111770",
   "metadata": {},
   "outputs": [
    {
     "name": "stdout",
     "output_type": "stream",
     "text": [
      "['name,price,qty,total', 'mango,100,20,2000', 'apple,200,10,2000', '']\n"
     ]
    }
   ],
   "source": [
    "file=open('data.csv','r')\n",
    "x=file.read()\n",
    "y=x.split('\\n')\n",
    "print(y)\n",
    "file.close()"
   ]
  },
  {
   "cell_type": "code",
   "execution_count": 4,
   "id": "e6f55b69",
   "metadata": {},
   "outputs": [
    {
     "data": {
      "text/plain": [
       "[['name', 'price', 'qty', 'total'],\n",
       " ['mango', '100', '20', '2000'],\n",
       " ['apple', '200', '10', '2000']]"
      ]
     },
     "execution_count": 4,
     "metadata": {},
     "output_type": "execute_result"
    }
   ],
   "source": [
    "all_result=[]\n",
    "for i in y[0:-1]:\n",
    "    all_result.append(i.split(','))\n",
    "    \n",
    "all_result"
   ]
  },
  {
   "cell_type": "code",
   "execution_count": 5,
   "id": "bf2c3e9e",
   "metadata": {},
   "outputs": [
    {
     "data": {
      "text/plain": [
       "'C:\\\\Users\\\\om\\\\Class8am'"
      ]
     },
     "execution_count": 5,
     "metadata": {},
     "output_type": "execute_result"
    }
   ],
   "source": [
    "pwd"
   ]
  },
  {
   "cell_type": "code",
   "execution_count": null,
   "id": "0e96d36a",
   "metadata": {},
   "outputs": [],
   "source": []
  }
 ],
 "metadata": {
  "kernelspec": {
   "display_name": "Python 3 (ipykernel)",
   "language": "python",
   "name": "python3"
  },
  "language_info": {
   "codemirror_mode": {
    "name": "ipython",
    "version": 3
   },
   "file_extension": ".py",
   "mimetype": "text/x-python",
   "name": "python",
   "nbconvert_exporter": "python",
   "pygments_lexer": "ipython3",
   "version": "3.9.12"
  }
 },
 "nbformat": 4,
 "nbformat_minor": 5
}
