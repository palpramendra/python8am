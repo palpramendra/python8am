{
 "cells": [
  {
   "cell_type": "code",
   "execution_count": 3,
   "id": "a9a37c51",
   "metadata": {},
   "outputs": [
    {
     "name": "stdout",
     "output_type": "stream",
     "text": [
      "Hello world\n"
     ]
    }
   ],
   "source": [
    "class Python:\n",
    "    print(\"Hello world\")\n",
    "    \n",
    "obj=Python()\n",
    "    "
   ]
  },
  {
   "cell_type": "code",
   "execution_count": 2,
   "id": "058c67d0",
   "metadata": {},
   "outputs": [
    {
     "name": "stdout",
     "output_type": "stream",
     "text": [
      "Hello world\n"
     ]
    }
   ],
   "source": [
    "class Python:\n",
    "    @staticmethod\n",
    "    def python():\n",
    "        print(\"Hello world\")\n",
    "    \n",
    "obj=Python()\n",
    "obj.python()\n"
   ]
  },
  {
   "cell_type": "code",
   "execution_count": 11,
   "id": "dc82ec31",
   "metadata": {},
   "outputs": [
    {
     "name": "stdout",
     "output_type": "stream",
     "text": [
      "Hello world\n"
     ]
    }
   ],
   "source": [
    "class Python:\n",
    "    def python(self):\n",
    "        print(\"Hello world\")\n",
    "    \n",
    "obj=Python()\n",
    "obj.python()\n",
    "    "
   ]
  },
  {
   "cell_type": "code",
   "execution_count": 18,
   "id": "7a3df4fa",
   "metadata": {},
   "outputs": [
    {
     "name": "stdout",
     "output_type": "stream",
     "text": [
      "120\n",
      "240\n"
     ]
    }
   ],
   "source": [
    "class Cal:\n",
    "    def area(self,l,b):\n",
    "        a=l*b\n",
    "        return a\n",
    "    def volume(self,l,b,h):\n",
    "        v=l*b*h\n",
    "        return v\n",
    "obj=Cal()\n",
    "print(obj.area(12,10))\n",
    "print(obj.volume(12,10,2))"
   ]
  },
  {
   "cell_type": "code",
   "execution_count": 19,
   "id": "c686e575",
   "metadata": {},
   "outputs": [
    {
     "name": "stdout",
     "output_type": "stream",
     "text": [
      "120\n",
      "240\n"
     ]
    }
   ],
   "source": [
    "class Area:\n",
    "    def area(self,l,b):\n",
    "        return l*b\n",
    "class Volume:\n",
    "    def volume(self,l,b,h):\n",
    "        return l*b*h\n",
    "    \n",
    "obj=Area()\n",
    "obj1=Volume()\n",
    "print(obj.area(12,10))\n",
    "print(obj1.volume(12,10,2))"
   ]
  },
  {
   "cell_type": "code",
   "execution_count": null,
   "id": "6d617468",
   "metadata": {},
   "outputs": [],
   "source": []
  }
 ],
 "metadata": {
  "kernelspec": {
   "display_name": "Python 3 (ipykernel)",
   "language": "python",
   "name": "python3"
  },
  "language_info": {
   "codemirror_mode": {
    "name": "ipython",
    "version": 3
   },
   "file_extension": ".py",
   "mimetype": "text/x-python",
   "name": "python",
   "nbconvert_exporter": "python",
   "pygments_lexer": "ipython3",
   "version": "3.9.12"
  }
 },
 "nbformat": 4,
 "nbformat_minor": 5
}
