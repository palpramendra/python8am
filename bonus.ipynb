{
 "cells": [
  {
   "cell_type": "code",
   "execution_count": 1,
   "id": "7ec270e7",
   "metadata": {},
   "outputs": [],
   "source": [
    "# comprehensions: list, dictionary"
   ]
  },
  {
   "cell_type": "code",
   "execution_count": 2,
   "id": "0011eb38",
   "metadata": {},
   "outputs": [
    {
     "data": {
      "text/plain": [
       "[0, 1, 2, 3, 4]"
      ]
     },
     "execution_count": 2,
     "metadata": {},
     "output_type": "execute_result"
    }
   ],
   "source": [
    "l=[i for i in range (5)]\n",
    "l"
   ]
  },
  {
   "cell_type": "code",
   "execution_count": 3,
   "id": "37955b30",
   "metadata": {},
   "outputs": [
    {
     "data": {
      "text/plain": [
       "[0, 2, 4, 6, 8]"
      ]
     },
     "execution_count": 3,
     "metadata": {},
     "output_type": "execute_result"
    }
   ],
   "source": [
    "l=[i for i in range (10) if i%2==0]\n",
    "l"
   ]
  },
  {
   "cell_type": "code",
   "execution_count": 2,
   "id": "988cb8c2",
   "metadata": {},
   "outputs": [
    {
     "data": {
      "text/plain": [
       "[34, 34, 44]"
      ]
     },
     "execution_count": 2,
     "metadata": {},
     "output_type": "execute_result"
    }
   ],
   "source": [
    "a=[23,45,34,34,5,44,65]\n",
    "l=[x for x in a if x%2==0]\n",
    "l\n"
   ]
  },
  {
   "cell_type": "code",
   "execution_count": 5,
   "id": "8f375fda",
   "metadata": {},
   "outputs": [
    {
     "data": {
      "text/plain": [
       "['Ball']"
      ]
     },
     "execution_count": 5,
     "metadata": {},
     "output_type": "execute_result"
    }
   ],
   "source": [
    "a=[\"apple\",\"Ball\",\"cat\",\"dog\"]\n",
    "l=[x for x in a if x[0].isupper()]\n",
    "l"
   ]
  },
  {
   "cell_type": "code",
   "execution_count": 6,
   "id": "df05eff3",
   "metadata": {},
   "outputs": [
    {
     "data": {
      "text/plain": [
       "{1: 1, 2: 4, 3: 9, 4: 16, 5: 25, 6: 36, 7: 49, 8: 64, 9: 81, 10: 100}"
      ]
     },
     "execution_count": 6,
     "metadata": {},
     "output_type": "execute_result"
    }
   ],
   "source": [
    "d={i:i**2 for i in range(1,11)}\n",
    "d"
   ]
  },
  {
   "cell_type": "code",
   "execution_count": 7,
   "id": "5de4d956",
   "metadata": {},
   "outputs": [
    {
     "data": {
      "text/plain": [
       "{'Apple': 'apple', 'Ball': 'ball', 'Cat': 'cat'}"
      ]
     },
     "execution_count": 7,
     "metadata": {},
     "output_type": "execute_result"
    }
   ],
   "source": [
    "a=[\"Apple\",\"Ball\",\"Cat\"]\n",
    "d={i:i.lower()for i in a}\n",
    "d"
   ]
  },
  {
   "cell_type": "code",
   "execution_count": 8,
   "id": "a56ec667",
   "metadata": {},
   "outputs": [
    {
     "name": "stdout",
     "output_type": "stream",
     "text": [
      "Enter vavlue = ewe\n",
      "Enter vavlue = erter\n",
      "Enter vavlue = ertert\n",
      "Enter vavlue = ert\n",
      "Enter vavlue = ertert\n"
     ]
    },
    {
     "data": {
      "text/plain": [
       "['ewe', 'erter', 'ertert', 'ert', 'ertert']"
      ]
     },
     "execution_count": 8,
     "metadata": {},
     "output_type": "execute_result"
    }
   ],
   "source": [
    "l=[input(\"Enter vavlue = \") for i in range(5)]\n",
    "l"
   ]
  },
  {
   "cell_type": "code",
   "execution_count": 9,
   "id": "11685110",
   "metadata": {},
   "outputs": [
    {
     "name": "stdout",
     "output_type": "stream",
     "text": [
      "Enter name = trer\n",
      "Enter phone = 934534\n",
      "Enter name = etertet\n",
      "Enter phone = 987654\n",
      "Enter name = tre\n",
      "Enter phone = 654345534\n"
     ]
    },
    {
     "data": {
      "text/plain": [
       "{'trer': 934534, 'etertet': 987654, 'tre': 654345534}"
      ]
     },
     "execution_count": 9,
     "metadata": {},
     "output_type": "execute_result"
    }
   ],
   "source": [
    "d={input(\"Enter name = \"):int(input(\"Enter phone = \")) for i in range(3)}\n",
    "d"
   ]
  },
  {
   "cell_type": "code",
   "execution_count": 10,
   "id": "57dfb242",
   "metadata": {},
   "outputs": [
    {
     "name": "stdout",
     "output_type": "stream",
     "text": [
      "2022-11-02 18:27:36.144322\n"
     ]
    }
   ],
   "source": [
    "# date and time = package\n",
    "\n",
    "import datetime\n",
    "\n",
    "x=datetime.datetime.now()\n",
    "print(x)\n"
   ]
  },
  {
   "cell_type": "code",
   "execution_count": 1,
   "id": "271a564e",
   "metadata": {},
   "outputs": [
    {
     "name": "stdout",
     "output_type": "stream",
     "text": [
      "2022-11-02 21:03:45.996664\n"
     ]
    }
   ],
   "source": [
    "import datetime\n",
    "x=datetime.datetime.now()\n",
    "print(x)"
   ]
  },
  {
   "cell_type": "code",
   "execution_count": 12,
   "id": "8bcfd62e",
   "metadata": {},
   "outputs": [
    {
     "name": "stdout",
     "output_type": "stream",
     "text": [
      "Wed\n"
     ]
    }
   ],
   "source": [
    "import datetime\n",
    "x=datetime.datetime.now()\n",
    "print(x.strftime(\"%a\"))"
   ]
  },
  {
   "cell_type": "code",
   "execution_count": 22,
   "id": "19a32e0d",
   "metadata": {},
   "outputs": [
    {
     "name": "stdout",
     "output_type": "stream",
     "text": [
      "11/02/22\n"
     ]
    }
   ],
   "source": [
    "import datetime\n",
    "x=datetime.datetime.now()\n",
    "print(x.strftime(\"%D\"))"
   ]
  },
  {
   "cell_type": "code",
   "execution_count": 24,
   "id": "c26dc133",
   "metadata": {},
   "outputs": [
    {
     "name": "stdout",
     "output_type": "stream",
     "text": [
      "Enter Value = hello my life\n",
      "0:00:13.376341\n"
     ]
    }
   ],
   "source": [
    "import datetime\n",
    "x=datetime.datetime.now()\n",
    "value=input(\"Enter Value = \")\n",
    "y=datetime.datetime.now()\n",
    "print(y-x)"
   ]
  },
  {
   "cell_type": "code",
   "execution_count": 10,
   "id": "9087f0ca",
   "metadata": {},
   "outputs": [
    {
     "data": {
      "text/plain": [
       "['.ipynb_checkpoints',\n",
       " 'Assignment.ipynb',\n",
       " 'bill.csv',\n",
       " 'bonus.ipynb',\n",
       " 'control_statement.ipynb',\n",
       " 'data.csv',\n",
       " 'data.txt',\n",
       " 'Dictionary.ipynb',\n",
       " 'file.ipynb',\n",
       " 'first_class-1,2.ipynb',\n",
       " 'function.ipynb',\n",
       " 'if else.ipynb',\n",
       " 'list.ipynb',\n",
       " 'loop.ipynb',\n",
       " 'mysql practice.ipynb',\n",
       " 'mysql.ipynb',\n",
       " 'new',\n",
       " 'new1',\n",
       " 'newfolder',\n",
       " 'new_data.csv',\n",
       " 'new_datas.csv',\n",
       " 'new_datas.json',\n",
       " 'new_file.txt',\n",
       " 'pandas.ipynb',\n",
       " 'Set.ipynb',\n",
       " 'string.ipynb',\n",
       " 'tuple.ipynb',\n",
       " 'while loop.ipynb']"
      ]
     },
     "execution_count": 10,
     "metadata": {},
     "output_type": "execute_result"
    }
   ],
   "source": [
    "# os package\n",
    "\n",
    "import os\n",
    "# listdir() mkdir() chdir() remove() rmdir() rename()\n",
    "os.listdir()"
   ]
  },
  {
   "cell_type": "code",
   "execution_count": 15,
   "id": "9f1c6040",
   "metadata": {},
   "outputs": [
    {
     "data": {
      "text/plain": [
       "['.ipynb_checkpoints',\n",
       " 'Assignment.ipynb',\n",
       " 'bill.csv',\n",
       " 'bonus.ipynb',\n",
       " 'computer',\n",
       " 'control_statement.ipynb',\n",
       " 'data.csv',\n",
       " 'data.txt',\n",
       " 'Dictionary.ipynb',\n",
       " 'file.ipynb',\n",
       " 'first_class-1,2.ipynb',\n",
       " 'function.ipynb',\n",
       " 'if else.ipynb',\n",
       " 'list.ipynb',\n",
       " 'loop.ipynb',\n",
       " 'mouse',\n",
       " 'mysql practice.ipynb',\n",
       " 'mysql.ipynb',\n",
       " 'new',\n",
       " 'new1',\n",
       " 'newfolder',\n",
       " 'new_data.csv',\n",
       " 'new_datas.csv',\n",
       " 'new_datas.json',\n",
       " 'new_file.txt',\n",
       " 'pandas.ipynb',\n",
       " 'Set.ipynb',\n",
       " 'string.ipynb',\n",
       " 'tuple.ipynb',\n",
       " 'while loop.ipynb']"
      ]
     },
     "execution_count": 15,
     "metadata": {},
     "output_type": "execute_result"
    }
   ],
   "source": [
    "import os\n",
    "os.listdir()"
   ]
  },
  {
   "cell_type": "code",
   "execution_count": 19,
   "id": "c8547ecd",
   "metadata": {},
   "outputs": [
    {
     "ename": "FileExistsError",
     "evalue": "[WinError 183] Cannot create a file when that file already exists: 'screen'",
     "output_type": "error",
     "traceback": [
      "\u001b[1;31m---------------------------------------------------------------------------\u001b[0m",
      "\u001b[1;31mFileExistsError\u001b[0m                           Traceback (most recent call last)",
      "Input \u001b[1;32mIn [19]\u001b[0m, in \u001b[0;36m<cell line: 1>\u001b[1;34m()\u001b[0m\n\u001b[1;32m----> 1\u001b[0m \u001b[43mos\u001b[49m\u001b[38;5;241;43m.\u001b[39;49m\u001b[43mmkdir\u001b[49m\u001b[43m(\u001b[49m\u001b[38;5;124;43m'\u001b[39;49m\u001b[38;5;124;43mscreen\u001b[39;49m\u001b[38;5;124;43m'\u001b[39;49m\u001b[43m)\u001b[49m\n\u001b[0;32m      2\u001b[0m os\u001b[38;5;241m.\u001b[39mlistdir()\n",
      "\u001b[1;31mFileExistsError\u001b[0m: [WinError 183] Cannot create a file when that file already exists: 'screen'"
     ]
    }
   ],
   "source": [
    "os.mkdir('screen')\n",
    "os.listdir()"
   ]
  },
  {
   "cell_type": "code",
   "execution_count": 20,
   "id": "2ba12351",
   "metadata": {},
   "outputs": [
    {
     "data": {
      "text/plain": [
       "['.ipynb_checkpoints',\n",
       " 'Assignment.ipynb',\n",
       " 'bill.csv',\n",
       " 'bonus.ipynb',\n",
       " 'computer',\n",
       " 'control_statement.ipynb',\n",
       " 'data.csv',\n",
       " 'data.txt',\n",
       " 'Dictionary.ipynb',\n",
       " 'file.ipynb',\n",
       " 'first_class-1,2.ipynb',\n",
       " 'function.ipynb',\n",
       " 'if else.ipynb',\n",
       " 'list.ipynb',\n",
       " 'loop.ipynb',\n",
       " 'mouse',\n",
       " 'mysql practice.ipynb',\n",
       " 'mysql.ipynb',\n",
       " 'new',\n",
       " 'new1',\n",
       " 'newfolder',\n",
       " 'new_data.csv',\n",
       " 'new_datas.csv',\n",
       " 'new_datas.json',\n",
       " 'new_file.txt',\n",
       " 'pandas.ipynb',\n",
       " 'screen',\n",
       " 'Set.ipynb',\n",
       " 'string.ipynb',\n",
       " 'tuple.ipynb',\n",
       " 'while loop.ipynb']"
      ]
     },
     "execution_count": 20,
     "metadata": {},
     "output_type": "execute_result"
    }
   ],
   "source": [
    "import os\n",
    "os.listdir()"
   ]
  },
  {
   "cell_type": "code",
   "execution_count": 21,
   "id": "79003d3b",
   "metadata": {},
   "outputs": [],
   "source": [
    "os.chdir('computer')"
   ]
  },
  {
   "cell_type": "code",
   "execution_count": 22,
   "id": "89a4b95a",
   "metadata": {},
   "outputs": [
    {
     "data": {
      "text/plain": [
       "'C:\\\\Users\\\\om\\\\Class8am\\\\computer'"
      ]
     },
     "execution_count": 22,
     "metadata": {},
     "output_type": "execute_result"
    }
   ],
   "source": [
    "# for see location\n",
    "\n",
    "pwd"
   ]
  },
  {
   "cell_type": "code",
   "execution_count": 23,
   "id": "208c6d4a",
   "metadata": {},
   "outputs": [
    {
     "name": "stdout",
     "output_type": "stream",
     "text": [
      "C:\\Users\\om\\Class8am\n"
     ]
    }
   ],
   "source": [
    "# for one step back\n",
    "\n",
    "cd .."
   ]
  },
  {
   "cell_type": "code",
   "execution_count": 24,
   "id": "6bc1cb22",
   "metadata": {},
   "outputs": [
    {
     "data": {
      "text/plain": [
       "['.ipynb_checkpoints',\n",
       " 'Assignment.ipynb',\n",
       " 'bill.csv',\n",
       " 'bonus.ipynb',\n",
       " 'computer',\n",
       " 'control_statement.ipynb',\n",
       " 'data.csv',\n",
       " 'data.txt',\n",
       " 'Dictionary.ipynb',\n",
       " 'file.ipynb',\n",
       " 'first_class-1,2.ipynb',\n",
       " 'function.ipynb',\n",
       " 'if else.ipynb',\n",
       " 'list.ipynb',\n",
       " 'loop.ipynb',\n",
       " 'mouse',\n",
       " 'mysql practice.ipynb',\n",
       " 'mysql.ipynb',\n",
       " 'new',\n",
       " 'new1',\n",
       " 'newfolder',\n",
       " 'new_data.csv',\n",
       " 'new_datas.csv',\n",
       " 'new_datas.json',\n",
       " 'new_file.txt',\n",
       " 'pandas.ipynb',\n",
       " 'screen',\n",
       " 'Set.ipynb',\n",
       " 'string.ipynb',\n",
       " 'tuple.ipynb',\n",
       " 'while loop.ipynb']"
      ]
     },
     "execution_count": 24,
     "metadata": {},
     "output_type": "execute_result"
    }
   ],
   "source": [
    "import os\n",
    "os.listdir()"
   ]
  },
  {
   "cell_type": "code",
   "execution_count": 25,
   "id": "474e2d05",
   "metadata": {},
   "outputs": [
    {
     "data": {
      "text/plain": [
       "['.ipynb_checkpoints',\n",
       " 'Assignment.ipynb',\n",
       " 'bill.csv',\n",
       " 'bonus.ipynb',\n",
       " 'computer',\n",
       " 'control_statement.ipynb',\n",
       " 'data.csv',\n",
       " 'data.txt',\n",
       " 'Dictionary.ipynb',\n",
       " 'file.ipynb',\n",
       " 'first_class-1,2.ipynb',\n",
       " 'function.ipynb',\n",
       " 'if else.ipynb',\n",
       " 'list.ipynb',\n",
       " 'loop.ipynb',\n",
       " 'mouse',\n",
       " 'mysql practice.ipynb',\n",
       " 'mysql.ipynb',\n",
       " 'new',\n",
       " 'new1',\n",
       " 'newfolder',\n",
       " 'new_data.csv',\n",
       " 'new_datas.csv',\n",
       " 'new_datas.json',\n",
       " 'new_file.txt',\n",
       " 'pal',\n",
       " 'pandas.ipynb',\n",
       " 'screen',\n",
       " 'Set.ipynb',\n",
       " 'string.ipynb',\n",
       " 'tuple.ipynb',\n",
       " 'while loop.ipynb']"
      ]
     },
     "execution_count": 25,
     "metadata": {},
     "output_type": "execute_result"
    }
   ],
   "source": [
    "os.mkdir('pal')\n",
    "os.listdir()"
   ]
  },
  {
   "cell_type": "code",
   "execution_count": 26,
   "id": "d569965a",
   "metadata": {},
   "outputs": [
    {
     "ename": "PermissionError",
     "evalue": "[WinError 5] Access is denied: 'pal'",
     "output_type": "error",
     "traceback": [
      "\u001b[1;31m---------------------------------------------------------------------------\u001b[0m",
      "\u001b[1;31mPermissionError\u001b[0m                           Traceback (most recent call last)",
      "Input \u001b[1;32mIn [26]\u001b[0m, in \u001b[0;36m<cell line: 1>\u001b[1;34m()\u001b[0m\n\u001b[1;32m----> 1\u001b[0m \u001b[43mos\u001b[49m\u001b[38;5;241;43m.\u001b[39;49m\u001b[43mremove\u001b[49m\u001b[43m(\u001b[49m\u001b[38;5;124;43m'\u001b[39;49m\u001b[38;5;124;43mpal\u001b[39;49m\u001b[38;5;124;43m'\u001b[39;49m\u001b[43m)\u001b[49m\n\u001b[0;32m      2\u001b[0m os\u001b[38;5;241m.\u001b[39mlistdir()\n",
      "\u001b[1;31mPermissionError\u001b[0m: [WinError 5] Access is denied: 'pal'"
     ]
    }
   ],
   "source": [
    "os.remove('pal')\n",
    "os.listdir()"
   ]
  },
  {
   "cell_type": "code",
   "execution_count": 27,
   "id": "0f33cc8b",
   "metadata": {},
   "outputs": [
    {
     "data": {
      "text/plain": [
       "['.ipynb_checkpoints',\n",
       " 'Assignment.ipynb',\n",
       " 'bill.csv',\n",
       " 'bonus.ipynb',\n",
       " 'computer',\n",
       " 'control_statement.ipynb',\n",
       " 'data.csv',\n",
       " 'data.txt',\n",
       " 'Dictionary.ipynb',\n",
       " 'file.ipynb',\n",
       " 'first_class-1,2.ipynb',\n",
       " 'function.ipynb',\n",
       " 'if else.ipynb',\n",
       " 'list.ipynb',\n",
       " 'loop.ipynb',\n",
       " 'mouse',\n",
       " 'mysql practice.ipynb',\n",
       " 'mysql.ipynb',\n",
       " 'new',\n",
       " 'new1',\n",
       " 'newfolder',\n",
       " 'new_data.csv',\n",
       " 'new_datas.csv',\n",
       " 'new_datas.json',\n",
       " 'new_file.txt',\n",
       " 'pal',\n",
       " 'pandas.ipynb',\n",
       " 'screen',\n",
       " 'Set.ipynb',\n",
       " 'string.ipynb',\n",
       " 'tuple.ipynb',\n",
       " 'while loop.ipynb']"
      ]
     },
     "execution_count": 27,
     "metadata": {},
     "output_type": "execute_result"
    }
   ],
   "source": [
    "os.listdir()"
   ]
  },
  {
   "cell_type": "code",
   "execution_count": 2,
   "id": "8e2f2374",
   "metadata": {},
   "outputs": [
    {
     "data": {
      "text/plain": [
       "['.ipynb_checkpoints',\n",
       " 'Assignment.ipynb',\n",
       " 'bill.csv',\n",
       " 'bonus.ipynb',\n",
       " 'computer',\n",
       " 'control_statement.ipynb',\n",
       " 'data.csv',\n",
       " 'data.txt',\n",
       " 'Dictionary.ipynb',\n",
       " 'file.ipynb',\n",
       " 'first_class-1,2.ipynb',\n",
       " 'function.ipynb',\n",
       " 'if else.ipynb',\n",
       " 'list.ipynb',\n",
       " 'loop.ipynb',\n",
       " 'mouse',\n",
       " 'mysql practice.ipynb',\n",
       " 'mysql.ipynb',\n",
       " 'new',\n",
       " 'new1',\n",
       " 'newfolder',\n",
       " 'new_data.csv',\n",
       " 'new_datas.csv',\n",
       " 'new_datas.json',\n",
       " 'new_file.txt',\n",
       " 'pal',\n",
       " 'pandas.ipynb',\n",
       " 'screen',\n",
       " 'Set.ipynb',\n",
       " 'string.ipynb',\n",
       " 'tuple.ipynb',\n",
       " 'while loop.ipynb']"
      ]
     },
     "execution_count": 2,
     "metadata": {},
     "output_type": "execute_result"
    }
   ],
   "source": [
    "import os\n",
    "os.listdir()\n"
   ]
  },
  {
   "cell_type": "code",
   "execution_count": 3,
   "id": "ada03a5a",
   "metadata": {},
   "outputs": [
    {
     "ename": "PermissionError",
     "evalue": "[WinError 5] Access is denied: 'pal'",
     "output_type": "error",
     "traceback": [
      "\u001b[1;31m---------------------------------------------------------------------------\u001b[0m",
      "\u001b[1;31mPermissionError\u001b[0m                           Traceback (most recent call last)",
      "Input \u001b[1;32mIn [3]\u001b[0m, in \u001b[0;36m<cell line: 1>\u001b[1;34m()\u001b[0m\n\u001b[1;32m----> 1\u001b[0m \u001b[43mos\u001b[49m\u001b[38;5;241;43m.\u001b[39;49m\u001b[43mremove\u001b[49m\u001b[43m(\u001b[49m\u001b[38;5;124;43m'\u001b[39;49m\u001b[38;5;124;43mpal\u001b[39;49m\u001b[38;5;124;43m'\u001b[39;49m\u001b[43m)\u001b[49m\n",
      "\u001b[1;31mPermissionError\u001b[0m: [WinError 5] Access is denied: 'pal'"
     ]
    }
   ],
   "source": [
    "os.remove('pal')"
   ]
  },
  {
   "cell_type": "code",
   "execution_count": 4,
   "id": "53cb54c6",
   "metadata": {},
   "outputs": [
    {
     "ename": "NameError",
     "evalue": "name 'pws' is not defined",
     "output_type": "error",
     "traceback": [
      "\u001b[1;31m---------------------------------------------------------------------------\u001b[0m",
      "\u001b[1;31mNameError\u001b[0m                                 Traceback (most recent call last)",
      "Input \u001b[1;32mIn [4]\u001b[0m, in \u001b[0;36m<cell line: 1>\u001b[1;34m()\u001b[0m\n\u001b[1;32m----> 1\u001b[0m \u001b[43mpws\u001b[49m\n",
      "\u001b[1;31mNameError\u001b[0m: name 'pws' is not defined"
     ]
    }
   ],
   "source": [
    "pws"
   ]
  },
  {
   "cell_type": "code",
   "execution_count": 5,
   "id": "22a0297d",
   "metadata": {},
   "outputs": [
    {
     "data": {
      "text/plain": [
       "'C:\\\\Users\\\\om\\\\Class8am'"
      ]
     },
     "execution_count": 5,
     "metadata": {},
     "output_type": "execute_result"
    }
   ],
   "source": [
    "pwd"
   ]
  },
  {
   "cell_type": "code",
   "execution_count": 6,
   "id": "b1a92bf5",
   "metadata": {},
   "outputs": [
    {
     "data": {
      "text/plain": [
       "['.ipynb_checkpoints',\n",
       " 'Assignment.ipynb',\n",
       " 'bill.csv',\n",
       " 'bonus.ipynb',\n",
       " 'computer',\n",
       " 'control_statement.ipynb',\n",
       " 'data.csv',\n",
       " 'data.txt',\n",
       " 'Dictionary.ipynb',\n",
       " 'file.ipynb',\n",
       " 'first_class-1,2.ipynb',\n",
       " 'function.ipynb',\n",
       " 'if else.ipynb',\n",
       " 'list.ipynb',\n",
       " 'loop.ipynb',\n",
       " 'mouse',\n",
       " 'mysql practice.ipynb',\n",
       " 'mysql.ipynb',\n",
       " 'new',\n",
       " 'new1',\n",
       " 'newfolder',\n",
       " 'new_data.csv',\n",
       " 'new_datas.csv',\n",
       " 'new_datas.json',\n",
       " 'new_file.txt',\n",
       " 'pal',\n",
       " 'pandas.ipynb',\n",
       " 'screen',\n",
       " 'Set.ipynb',\n",
       " 'string.ipynb',\n",
       " 'tuple.ipynb',\n",
       " 'while loop.ipynb']"
      ]
     },
     "execution_count": 6,
     "metadata": {},
     "output_type": "execute_result"
    }
   ],
   "source": [
    "os.listdir()"
   ]
  },
  {
   "cell_type": "code",
   "execution_count": 8,
   "id": "39b7fff6",
   "metadata": {},
   "outputs": [
    {
     "ename": "PermissionError",
     "evalue": "[WinError 5] Access is denied: 'screen'",
     "output_type": "error",
     "traceback": [
      "\u001b[1;31m---------------------------------------------------------------------------\u001b[0m",
      "\u001b[1;31mPermissionError\u001b[0m                           Traceback (most recent call last)",
      "Input \u001b[1;32mIn [8]\u001b[0m, in \u001b[0;36m<cell line: 1>\u001b[1;34m()\u001b[0m\n\u001b[1;32m----> 1\u001b[0m \u001b[43mos\u001b[49m\u001b[38;5;241;43m.\u001b[39;49m\u001b[43mremove\u001b[49m\u001b[43m(\u001b[49m\u001b[38;5;124;43m'\u001b[39;49m\u001b[38;5;124;43mscreen\u001b[39;49m\u001b[38;5;124;43m'\u001b[39;49m\u001b[43m)\u001b[49m\n\u001b[0;32m      2\u001b[0m os\u001b[38;5;241m.\u001b[39mlistdir()\n",
      "\u001b[1;31mPermissionError\u001b[0m: [WinError 5] Access is denied: 'screen'"
     ]
    }
   ],
   "source": [
    "os.remove('screen')\n",
    "os.listdir()"
   ]
  },
  {
   "cell_type": "code",
   "execution_count": null,
   "id": "4855108f",
   "metadata": {},
   "outputs": [],
   "source": []
  }
 ],
 "metadata": {
  "kernelspec": {
   "display_name": "Python 3 (ipykernel)",
   "language": "python",
   "name": "python3"
  },
  "language_info": {
   "codemirror_mode": {
    "name": "ipython",
    "version": 3
   },
   "file_extension": ".py",
   "mimetype": "text/x-python",
   "name": "python",
   "nbconvert_exporter": "python",
   "pygments_lexer": "ipython3",
   "version": "3.9.12"
  }
 },
 "nbformat": 4,
 "nbformat_minor": 5
}
