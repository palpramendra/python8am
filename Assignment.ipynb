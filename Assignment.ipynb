{
 "cells": [
  {
   "cell_type": "code",
   "execution_count": 1,
   "id": "e1194ec7",
   "metadata": {},
   "outputs": [],
   "source": [
    "# wap to create a biling system\n",
    "# name\n",
    "# price\n",
    "# qty\n",
    "# total\n",
    "# gran total or all_total\n",
    "\n",
    "# wap to create a result mnagement system of users\n",
    "# name\n",
    "# subject\n",
    "# total\n",
    "# per\n",
    "# grade"
   ]
  },
  {
   "cell_type": "code",
   "execution_count": 2,
   "id": "6ac421c5",
   "metadata": {},
   "outputs": [
    {
     "name": "stdout",
     "output_type": "stream",
     "text": [
      "Enter n = 2\n",
      "Enter a product name : wai wai\n",
      "enter product price = 20\n",
      "Enter product qty = 100\n",
      "total amt :  2000\n",
      "grand total :  2000\n",
      "Enter a product name : biscuits\n",
      "enter product price = 10\n",
      "Enter product qty = 50\n",
      "total amt :  500\n",
      "grand total :  2500\n"
     ]
    }
   ],
   "source": [
    "# wap to create a biling system\n",
    "# name\n",
    "# price\n",
    "# qty\n",
    "# total\n",
    "# gran total or all_total\n",
    "\n",
    "g=0\n",
    "n=int(input(\"Enter n = \"))\n",
    "for i in range(n):\n",
    "    name=input(\"Enter a product name : \")\n",
    "    price=int(input(\"enter product price = \"))\n",
    "    qty=int(input(\"Enter product qty = \"))\n",
    "    total=price*qty\n",
    "    g=g+total\n",
    "    print(\"total amt : \",total)\n",
    "    print(\"grand total : \",g)\n",
    "        \n"
   ]
  },
  {
   "cell_type": "code",
   "execution_count": 4,
   "id": "73e0139a",
   "metadata": {},
   "outputs": [
    {
     "name": "stdout",
     "output_type": "stream",
     "text": [
      "Enter n = 3\n",
      "Enter a product name : wai wai \n",
      "enter product price = 34\n",
      "Enter product qty = 20\n",
      "Enter a product name : biscuit\n",
      "enter product price = 20\n",
      "Enter product qty = 10\n",
      "Enter a product name : apple\n",
      "enter product price = 20\n",
      "Enter product qty = 30\n",
      "wai wai \t34\t20\t680\n",
      "biscuit\t20\t10\t200\n",
      "apple\t20\t30\t600\n",
      "\n",
      "all total amt is : 1480\n"
     ]
    }
   ],
   "source": [
    "all_total = 0\n",
    "bill = str()\n",
    "n=int(input(\"Enter n = \"))\n",
    "for i in range(n):\n",
    "    name=input(\"Enter a product name : \")\n",
    "    price=int(input(\"enter product price = \"))\n",
    "    qty=int(input(\"Enter product qty = \"))\n",
    "    total=price*qty\n",
    "    all_total = all_total+total\n",
    "    bill = bill + name +\"\\t\"+ str(price) +\"\\t\"+ str(qty) +\"\\t\"+ str(total) +\"\\n\"\n",
    "    \n",
    "print(bill)\n",
    "print(\"all total amt is :\" ,all_total)\n"
   ]
  },
  {
   "cell_type": "code",
   "execution_count": 1,
   "id": "d1104a9a",
   "metadata": {},
   "outputs": [
    {
     "name": "stdout",
     "output_type": "stream",
     "text": [
      "Enter student name : ram\n",
      "Enter a nepali mark : 43\n",
      "Enter a science mark : 54\n",
      "Enter a math mark : 56\n",
      "Enter a java mark : 65\n",
      "Enter a python mark : 65\n",
      "Grade C\n"
     ]
    }
   ],
   "source": [
    "# wap to create a result mnagement system of users\n",
    "# name\n",
    "# subject\n",
    "# total\n",
    "# per\n",
    "# grade\n",
    "\n",
    "name = str(input(\"Enter student name : \"))\n",
    "nepali = int(input(\"Enter a nepali mark : \"))\n",
    "science = int(input(\"Enter a science mark : \"))\n",
    "math = int(input(\"Enter a math mark : \"))\n",
    "java = int(input(\"Enter a java mark : \"))\n",
    "python = int(input(\"Enter a python mark : \"))\n",
    "total = nepali+science+math+java+python\n",
    "per = total/5\n",
    "if per>80 or per==80:\n",
    "    print(\"Grade A\")\n",
    "elif per>60 or per==60:\n",
    "    print(\"Grade B\")\n",
    "elif per>45or per==45:\n",
    "    print(\"Grade C\")\n",
    "else:\n",
    "    print(\"F\")"
   ]
  },
  {
   "cell_type": "code",
   "execution_count": 3,
   "id": "bfd9d425",
   "metadata": {},
   "outputs": [
    {
     "name": "stdout",
     "output_type": "stream",
     "text": [
      "Enter n = 2\n",
      "Enter student name : Gauri\n",
      "Enter a nepali mark : 89\n",
      "Enter a science mark : 78\n",
      "Enter a math mark : 87\n",
      "Enter a java mark : 67\n",
      "Enter a python mark : 78\n",
      "Enter student name : Shyam\n",
      "Enter a nepali mark : 23\n",
      "Enter a science mark : 32\n",
      "Enter a math mark : 34\n",
      "Enter a java mark : 43\n",
      "Enter a python mark : 23\n",
      "name\tnepali\tscience\tmath\tjava\tpython\ttotal\tper\tgrade\n",
      "Gauri\t89\t78\t87\t67\t78\t399\t79.8\tB\n",
      "Shyam\t23\t32\t34\t43\t23\t155\t31.0\tF\n",
      "\n"
     ]
    }
   ],
   "source": [
    "result = str()\n",
    "n = int(input(\"Enter n = \"))\n",
    "for i in range(n):\n",
    "    name = str(input(\"Enter student name : \"))\n",
    "    nepali = int(input(\"Enter a nepali mark : \"))\n",
    "    science = int(input(\"Enter a science mark : \"))\n",
    "    math = int(input(\"Enter a math mark : \"))\n",
    "    java = int(input(\"Enter a java mark : \"))\n",
    "    python = int(input(\"Enter a python mark : \"))\n",
    "    total = nepali+science+math+java+python\n",
    "    per = total/5\n",
    "    if per>=80 and per<100:\n",
    "        grade = 'A'\n",
    "    elif per>=60 and per<80:\n",
    "        grade = 'B'\n",
    "    elif per>=45 and per<60:\n",
    "        grade = 'C'\n",
    "    else:\n",
    "        grade = 'F'\n",
    "    result = result + name +\"\\t\" +str(nepali) +\"\\t\"+ str(science) +\"\\t\"+ str(math) +\"\\t\"+ str(java) +\"\\t\"+ str(python) +\"\\t\"+ str(total) +\"\\t\"+ str(per)+\"\\t\"+str(grade)+\"\\n\"\n",
    "\n",
    "print('name\\tnepali\\tscience\\tmath\\tjava\\tpython\\ttotal\\tper\\tgrade')\n",
    "print(result)"
   ]
  },
  {
   "cell_type": "code",
   "execution_count": 5,
   "id": "30771660",
   "metadata": {},
   "outputs": [],
   "source": [
    "# making bill system"
   ]
  },
  {
   "cell_type": "markdown",
   "id": "ee7a57fc",
   "metadata": {},
   "source": [
    "\n"
   ]
  },
  {
   "cell_type": "code",
   "execution_count": 9,
   "id": "dd8fb528",
   "metadata": {},
   "outputs": [
    {
     "name": "stdout",
     "output_type": "stream",
     "text": [
      "Enter n = 3\n",
      "Enter product name = wai wai\n",
      "Enter price of product = 20\n",
      "enter a product qty =10\n",
      "Enter product name = biscuits\n",
      "Enter price of product = 30\n",
      "enter a product qty =20\n",
      "Enter product name = apple\n",
      "Enter price of product = 200\n",
      "enter a product qty =10\n",
      "name\tprice\tqty\ttotal\n",
      "wai wai\t20\t10\t200\n",
      "biscuits\t30\t20\t600\n",
      "apple\t200\t10\t2000\n",
      "\n",
      "All amt is =  2800\n"
     ]
    }
   ],
   "source": [
    "all_total = 0\n",
    "bill = str()\n",
    "n = int(input(\"Enter n = \"))\n",
    "for i in range(n):\n",
    "    name = input(\"Enter product name = \")\n",
    "    price = int(input(\"Enter price of product = \"))\n",
    "    qty = int(input(\"enter a product qty =\" ))\n",
    "    total = price*qty\n",
    "    all_total = all_total+total\n",
    "    bill = bill+name+ \"\\t\" +str(price)+ \"\\t\" +str(qty)+ \"\\t\" +str(total)+\"\\n\"\n",
    "\n",
    "print('name\\tprice\\tqty\\ttotal')\n",
    "print(bill)\n",
    "print(\"All amt is = \",all_total)"
   ]
  },
  {
   "cell_type": "code",
   "execution_count": 9,
   "id": "8e2bb12e",
   "metadata": {},
   "outputs": [
    {
     "name": "stdout",
     "output_type": "stream",
     "text": [
      "Enter name = Sarita\n",
      "['Sarita', 20, 'ktm']\n"
     ]
    }
   ],
   "source": [
    "# WAP to search any value inside a list.\n",
    "\n",
    "\n",
    "information = [['Sarita',20,'ktm'],\n",
    "              ['Ram',25,'bhaktapur'],\n",
    "              ['Prem',25,'rupandehi'],\n",
    "              ['Priya',22,'rupandehi'],\n",
    "              ['Gita',55,'lalitpur']]\n",
    "\n",
    "search = input(\"Enter name = \")\n",
    "for i in information:\n",
    "    if search in i:\n",
    "        print(i)"
   ]
  },
  {
   "cell_type": "code",
   "execution_count": 2,
   "id": "73402d97",
   "metadata": {},
   "outputs": [
    {
     "name": "stdout",
     "output_type": "stream",
     "text": [
      "Enter r = 3\n",
      "Enter c = 3\n",
      "Enter x = 1\n",
      "Enter x = 2\n",
      "Enter x = 3\n",
      "[[1, 2, 3]]\n",
      "Enter x = 4\n",
      "Enter x = 5\n",
      "Enter x = 6\n",
      "[[1, 2, 3], [4, 5, 6]]\n",
      "Enter x = 7\n",
      "Enter x = 8\n",
      "Enter x = 8\n",
      "[[1, 2, 3], [4, 5, 6], [7, 8, 8]]\n"
     ]
    }
   ],
   "source": [
    "# WAP to create a matrix\n",
    "# r = ?\n",
    "# c = ?\n",
    "# x = ?\n",
    "# m = []\n",
    "# n = [1,2,3]\n",
    "\n",
    "r = int(input(\"Enter r = \"))\n",
    "c = int(input(\"Enter c = \"))\n",
    "m = []\n",
    "for i in range(r):\n",
    "    n = []\n",
    "    for j in range(c):\n",
    "        x = int(input(\"Enter x = \"))\n",
    "        n.append(x)\n",
    "    m.append(n)\n",
    "    print(m)"
   ]
  },
  {
   "cell_type": "markdown",
   "id": "ea50d2b3",
   "metadata": {},
   "source": []
  },
  {
   "cell_type": "code",
   "execution_count": 3,
   "id": "9628d6b0",
   "metadata": {},
   "outputs": [
    {
     "name": "stdout",
     "output_type": "stream",
     "text": [
      "Enter r = 2\n",
      "Enter c = 3\n",
      "Enter x = 1\n",
      "Enter x = 2\n",
      "Enter x = 3\n",
      "[[1, 2, 3]]\n",
      "Enter x = 4\n",
      "Enter x = 5\n",
      "Enter x = 6\n",
      "[[1, 2, 3], [4, 5, 6]]\n"
     ]
    }
   ],
   "source": [
    "r = int(input(\"Enter r = \"))\n",
    "c = int(input(\"Enter c = \"))\n",
    "m = []\n",
    "for i in range(r):\n",
    "    n = []\n",
    "    for j in range(c):\n",
    "        x = int(input(\"Enter x = \"))\n",
    "        n.append(x)\n",
    "    m.append(n)\n",
    "    print(m)"
   ]
  },
  {
   "cell_type": "code",
   "execution_count": null,
   "id": "66cbda87",
   "metadata": {},
   "outputs": [],
   "source": [
    "r = int(input(\"Enter r = \"))\n",
    "c = int(input(\"Enter c = \"))\n",
    "m = []\n",
    "for i in range(r):\n",
    "    n = []\n",
    "    for j in range(c):\n",
    "        x = int(input(\"Enter x = \"))\n",
    "        n.append(x)\n",
    "    m.append(n)\n",
    "    print(m)"
   ]
  },
  {
   "cell_type": "markdown",
   "id": "f090df6a",
   "metadata": {},
   "source": []
  },
  {
   "cell_type": "code",
   "execution_count": 1,
   "id": "77ec0642",
   "metadata": {},
   "outputs": [],
   "source": [
    "# python collection cheat sheet\n",
    "# pandas cheat sheet\n",
    "# sql cheat sheet"
   ]
  },
  {
   "cell_type": "code",
   "execution_count": null,
   "id": "3484e449",
   "metadata": {},
   "outputs": [],
   "source": [
    "# Packages \n",
    "\n",
    "Beautiful Soup\n",
    "git- download\n",
    "github\n",
    "layouit \n",
    "bootsrap\n",
    "matplotlip\n",
    "plotly python"
   ]
  }
 ],
 "metadata": {
  "kernelspec": {
   "display_name": "Python 3 (ipykernel)",
   "language": "python",
   "name": "python3"
  },
  "language_info": {
   "codemirror_mode": {
    "name": "ipython",
    "version": 3
   },
   "file_extension": ".py",
   "mimetype": "text/x-python",
   "name": "python",
   "nbconvert_exporter": "python",
   "pygments_lexer": "ipython3",
   "version": "3.9.12"
  }
 },
 "nbformat": 4,
 "nbformat_minor": 5
}
