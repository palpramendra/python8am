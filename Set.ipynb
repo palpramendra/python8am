{
 "cells": [
  {
   "cell_type": "code",
   "execution_count": 1,
   "id": "1d0f401d",
   "metadata": {},
   "outputs": [],
   "source": [
    "# set { }\n",
    "# no indexing\n",
    "# unordered\n",
    "# multiple but no duplication data\n",
    "# mutable data\n"
   ]
  },
  {
   "cell_type": "code",
   "execution_count": 2,
   "id": "481a2154",
   "metadata": {},
   "outputs": [
    {
     "name": "stdout",
     "output_type": "stream",
     "text": [
      "<class 'set'>\n"
     ]
    }
   ],
   "source": [
    "s={1,2,3}\n",
    "s=set()\n",
    "print(type(s))"
   ]
  },
  {
   "cell_type": "code",
   "execution_count": 4,
   "id": "5c1afb57",
   "metadata": {},
   "outputs": [
    {
     "name": "stdout",
     "output_type": "stream",
     "text": [
      "{32, 34, 3, 23, 43}\n"
     ]
    },
    {
     "data": {
      "text/plain": [
       "{3, 23, 32, 34, 43}"
      ]
     },
     "execution_count": 4,
     "metadata": {},
     "output_type": "execute_result"
    }
   ],
   "source": [
    "s={3,34,43,32,23}\n",
    "print(s)\n",
    "s"
   ]
  },
  {
   "cell_type": "code",
   "execution_count": 5,
   "id": "1304caa3",
   "metadata": {},
   "outputs": [
    {
     "name": "stdout",
     "output_type": "stream",
     "text": [
      "{32, 34, 3, 23, 11, 43}\n"
     ]
    }
   ],
   "source": [
    "s={3,34,43,32,23,11,34,32}\n",
    "print(s)"
   ]
  },
  {
   "cell_type": "code",
   "execution_count": 6,
   "id": "60058b1b",
   "metadata": {},
   "outputs": [
    {
     "data": {
      "text/plain": [
       "[32, 34, 3, 23, 43]"
      ]
     },
     "execution_count": 6,
     "metadata": {},
     "output_type": "execute_result"
    }
   ],
   "source": [
    "s={3,34,43,32,23}\n",
    "list(s)"
   ]
  },
  {
   "cell_type": "code",
   "execution_count": 7,
   "id": "e1a59777",
   "metadata": {},
   "outputs": [
    {
     "data": {
      "text/plain": [
       "[32, 34, 3, 23, 43]"
      ]
     },
     "execution_count": 7,
     "metadata": {},
     "output_type": "execute_result"
    }
   ],
   "source": [
    "s={3,34,43,32,23}\n",
    "list(set(s))"
   ]
  },
  {
   "cell_type": "code",
   "execution_count": 8,
   "id": "fc147969",
   "metadata": {},
   "outputs": [
    {
     "data": {
      "text/plain": [
       "{3, 23, 32, 34, 43}"
      ]
     },
     "execution_count": 8,
     "metadata": {},
     "output_type": "execute_result"
    }
   ],
   "source": [
    "l=[32, 34, 3, 23, 43]\n",
    "set(l)"
   ]
  },
  {
   "cell_type": "code",
   "execution_count": 12,
   "id": "89ddc70d",
   "metadata": {},
   "outputs": [
    {
     "name": "stdout",
     "output_type": "stream",
     "text": [
      "{'Apple', 'Ball', 'cat'}\n"
     ]
    }
   ],
   "source": [
    "s=set()\n",
    "s.add('Apple')\n",
    "s.add('Ball')\n",
    "s.add('cat')\n",
    "print(s)"
   ]
  },
  {
   "cell_type": "code",
   "execution_count": 14,
   "id": "107cd3f9",
   "metadata": {},
   "outputs": [
    {
     "name": "stdout",
     "output_type": "stream",
     "text": [
      "Enter n= 3\n",
      "Enter x = 234\n",
      "Enter x = 432\n",
      "Enter x = 34\n"
     ]
    },
    {
     "data": {
      "text/plain": [
       "{'234', '34', '432'}"
      ]
     },
     "execution_count": 14,
     "metadata": {},
     "output_type": "execute_result"
    }
   ],
   "source": [
    "s=set()\n",
    "n=int(input(\"Enter n= \"))\n",
    "for i in range(n):\n",
    "    x=input(\"Enter x = \")\n",
    "    s.add(x)\n",
    "\n",
    "s"
   ]
  },
  {
   "cell_type": "code",
   "execution_count": 15,
   "id": "5fa24b39",
   "metadata": {},
   "outputs": [
    {
     "data": {
      "text/plain": [
       "{'34', '432'}"
      ]
     },
     "execution_count": 15,
     "metadata": {},
     "output_type": "execute_result"
    }
   ],
   "source": [
    "s={'234', '34', '432'}\n",
    "s.remove('234')\n",
    "s"
   ]
  },
  {
   "cell_type": "code",
   "execution_count": 16,
   "id": "8086293b",
   "metadata": {},
   "outputs": [
    {
     "data": {
      "text/plain": [
       "{'roi'}"
      ]
     },
     "execution_count": 16,
     "metadata": {},
     "output_type": "execute_result"
    }
   ],
   "source": [
    "apple={\"marco\",\"roi\",\"lili\"}\n",
    "ms={\"gates\",\"ktm\",\"maya\",\"roi\"}\n",
    "\n",
    "apple.intersection(ms)\n",
    "\n",
    "\n"
   ]
  },
  {
   "cell_type": "code",
   "execution_count": 17,
   "id": "aa64e1c7",
   "metadata": {},
   "outputs": [
    {
     "data": {
      "text/plain": [
       "{'gates', 'ktm', 'lili', 'marco', 'maya', 'roi'}"
      ]
     },
     "execution_count": 17,
     "metadata": {},
     "output_type": "execute_result"
    }
   ],
   "source": [
    "apple.union(ms)"
   ]
  },
  {
   "cell_type": "code",
   "execution_count": 18,
   "id": "4e9a86f5",
   "metadata": {},
   "outputs": [
    {
     "data": {
      "text/plain": [
       "{'gates', 'ktm', 'lili', 'marco', 'maya', 'roi'}"
      ]
     },
     "execution_count": 18,
     "metadata": {},
     "output_type": "execute_result"
    }
   ],
   "source": [
    "apple.update(ms)\n",
    "apple"
   ]
  },
  {
   "cell_type": "code",
   "execution_count": 19,
   "id": "649702c0",
   "metadata": {},
   "outputs": [
    {
     "data": {
      "text/plain": [
       "{'lili', 'marco'}"
      ]
     },
     "execution_count": 19,
     "metadata": {},
     "output_type": "execute_result"
    }
   ],
   "source": [
    "apple={\"marco\",\"roi\",\"lili\"}\n",
    "ms={\"gates\",\"ktm\",\"maya\",\"roi\"}\n",
    "apple.difference(ms)\n",
    "# apple-ms"
   ]
  },
  {
   "cell_type": "code",
   "execution_count": 23,
   "id": "f65f695a",
   "metadata": {},
   "outputs": [
    {
     "data": {
      "text/plain": [
       "{'Shyam', 'dell', 'ram'}"
      ]
     },
     "execution_count": 23,
     "metadata": {},
     "output_type": "execute_result"
    }
   ],
   "source": [
    "U={'gates', 'ktm', 'lili', 'marco', 'maya', 'roi','ram','Shyam','dell'}\n",
    "apple={\"marco\",\"roi\",\"lili\"}\n",
    "ms={\"gates\",\"ktm\",\"maya\",\"roi\"}\n",
    "\n",
    "un=apple.union(ms)\n",
    "U-un"
   ]
  },
  {
   "cell_type": "code",
   "execution_count": 27,
   "id": "6e6a0ba3",
   "metadata": {},
   "outputs": [
    {
     "data": {
      "text/plain": [
       "{'css', 'python'}"
      ]
     },
     "execution_count": 27,
     "metadata": {},
     "output_type": "execute_result"
    }
   ],
   "source": [
    "job={'python','html','css','java'}\n",
    "u={'python','css'}\n",
    "\n",
    "job.intersection(u)\n"
   ]
  },
  {
   "cell_type": "code",
   "execution_count": 26,
   "id": "831ed758",
   "metadata": {},
   "outputs": [
    {
     "data": {
      "text/plain": [
       "2"
      ]
     },
     "execution_count": 26,
     "metadata": {},
     "output_type": "execute_result"
    }
   ],
   "source": [
    "len(job.intersection(u))"
   ]
  },
  {
   "cell_type": "code",
   "execution_count": 28,
   "id": "85bc383a",
   "metadata": {},
   "outputs": [
    {
     "data": {
      "text/plain": [
       "50.0"
      ]
     },
     "execution_count": 28,
     "metadata": {},
     "output_type": "execute_result"
    }
   ],
   "source": [
    "len(job.intersection(u))/len(job)*100"
   ]
  },
  {
   "cell_type": "code",
   "execution_count": 29,
   "id": "c1ea4dcb",
   "metadata": {},
   "outputs": [
    {
     "data": {
      "text/plain": [
       "[{1, 2, 3}, [4, 5, 6]]"
      ]
     },
     "execution_count": 29,
     "metadata": {},
     "output_type": "execute_result"
    }
   ],
   "source": [
    "# set inside list\n",
    "l=[{1,2,3},[4,5,6]]\n",
    "l"
   ]
  },
  {
   "cell_type": "code",
   "execution_count": 30,
   "id": "7225a977",
   "metadata": {},
   "outputs": [
    {
     "data": {
      "text/plain": [
       "({1, 2, 3}, {4, 5, 6})"
      ]
     },
     "execution_count": 30,
     "metadata": {},
     "output_type": "execute_result"
    }
   ],
   "source": [
    "# set inside tuple\n",
    "\n",
    "t=({1,2,3},{4,5,6})\n",
    "t"
   ]
  },
  {
   "cell_type": "code",
   "execution_count": 31,
   "id": "04603677",
   "metadata": {},
   "outputs": [
    {
     "data": {
      "text/plain": [
       "{'Apple': {'jack', 'jobs', 'karki'},\n",
       " 'ms': {'gates', 'jack', 'subin'},\n",
       " 'int': {'roi'},\n",
       " 'union': {'gates', 'ktm', 'lili', 'marco', 'maya', 'roi'}}"
      ]
     },
     "execution_count": 31,
     "metadata": {},
     "output_type": "execute_result"
    }
   ],
   "source": [
    "d={\"Apple\":{'jack','jobs','karki'},\n",
    "  'ms': {'gates','jack','subin'},\n",
    "  'int': apple.intersection(ms),\n",
    "   'union':apple.union(ms)}\n",
    "\n",
    "d"
   ]
  },
  {
   "cell_type": "code",
   "execution_count": 33,
   "id": "f57c7d90",
   "metadata": {},
   "outputs": [
    {
     "data": {
      "text/plain": [
       "True"
      ]
     },
     "execution_count": 33,
     "metadata": {},
     "output_type": "execute_result"
    }
   ],
   "source": [
    "a={1,2,3,4,5,6,7,8}\n",
    "b={1,2,3,4}\n",
    "b.issubset(a)"
   ]
  },
  {
   "cell_type": "code",
   "execution_count": null,
   "id": "433b6b11",
   "metadata": {},
   "outputs": [],
   "source": []
  }
 ],
 "metadata": {
  "kernelspec": {
   "display_name": "Python 3 (ipykernel)",
   "language": "python",
   "name": "python3"
  },
  "language_info": {
   "codemirror_mode": {
    "name": "ipython",
    "version": 3
   },
   "file_extension": ".py",
   "mimetype": "text/x-python",
   "name": "python",
   "nbconvert_exporter": "python",
   "pygments_lexer": "ipython3",
   "version": "3.9.12"
  }
 },
 "nbformat": 4,
 "nbformat_minor": 5
}
