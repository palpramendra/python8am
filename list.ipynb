{
 "cells": [
  {
   "cell_type": "code",
   "execution_count": null,
   "id": "58782cce",
   "metadata": {},
   "outputs": [],
   "source": [
    "#  python collection\n",
    "# list\n",
    "# tuple\n",
    "# set\n",
    "# dictionary"
   ]
  },
  {
   "cell_type": "code",
   "execution_count": null,
   "id": "8f6adfc1",
   "metadata": {},
   "outputs": [],
   "source": [
    "# list\n",
    "\n"
   ]
  },
  {
   "cell_type": "code",
   "execution_count": null,
   "id": "d5619934",
   "metadata": {},
   "outputs": [],
   "source": [
    "# indexing = b=['apple'[0],'ball'[1]]\n",
    "# multiple data =[1,2,3,4,4]\n",
    "# duplicate data =['apple','apple']\n",
    "# ordered = what is insert(same word print)\n",
    "# mutable(changeable) =  "
   ]
  },
  {
   "cell_type": "code",
   "execution_count": 1,
   "id": "f26a30a5",
   "metadata": {},
   "outputs": [
    {
     "name": "stdout",
     "output_type": "stream",
     "text": [
      "<class 'list'>\n"
     ]
    }
   ],
   "source": [
    "a = []\n",
    "a = list()\n",
    "print(type(a))"
   ]
  },
  {
   "cell_type": "code",
   "execution_count": 3,
   "id": "274f7125",
   "metadata": {},
   "outputs": [
    {
     "name": "stdout",
     "output_type": "stream",
     "text": [
      "<class 'list'>\n",
      "<class 'list'>\n"
     ]
    }
   ],
   "source": [
    "a = [1,2,3,4,5]\n",
    "b = ['Apple','ball','cat']\n",
    "print(type(a))\n",
    "print(type(b))\n"
   ]
  },
  {
   "cell_type": "code",
   "execution_count": 4,
   "id": "dd7139bb",
   "metadata": {},
   "outputs": [
    {
     "data": {
      "text/plain": [
       "'Apple'"
      ]
     },
     "execution_count": 4,
     "metadata": {},
     "output_type": "execute_result"
    }
   ],
   "source": [
    "b = ['Apple','ball','cat']\n",
    "b[0]"
   ]
  },
  {
   "cell_type": "code",
   "execution_count": 5,
   "id": "f9ed5b54",
   "metadata": {},
   "outputs": [
    {
     "data": {
      "text/plain": [
       "'ball'"
      ]
     },
     "execution_count": 5,
     "metadata": {},
     "output_type": "execute_result"
    }
   ],
   "source": [
    "b = ['Apple','ball','cat']\n",
    "b[-2]"
   ]
  },
  {
   "cell_type": "code",
   "execution_count": 7,
   "id": "324d2afc",
   "metadata": {},
   "outputs": [
    {
     "data": {
      "text/plain": [
       "['Apple', 'ball']"
      ]
     },
     "execution_count": 7,
     "metadata": {},
     "output_type": "execute_result"
    }
   ],
   "source": [
    "b = ['Apple','ball','cat']\n",
    "b[0:2]"
   ]
  },
  {
   "cell_type": "code",
   "execution_count": 2,
   "id": "6caff6cf",
   "metadata": {},
   "outputs": [
    {
     "data": {
      "text/plain": [
       "['Apple', 'cat']"
      ]
     },
     "execution_count": 2,
     "metadata": {},
     "output_type": "execute_result"
    }
   ],
   "source": [
    "b = ['Apple','ball','cat']\n",
    "b[0:4:2]"
   ]
  },
  {
   "cell_type": "code",
   "execution_count": 11,
   "id": "89560ce2",
   "metadata": {},
   "outputs": [
    {
     "data": {
      "text/plain": [
       "3"
      ]
     },
     "execution_count": 11,
     "metadata": {},
     "output_type": "execute_result"
    }
   ],
   "source": [
    "len(b)"
   ]
  },
  {
   "cell_type": "code",
   "execution_count": 12,
   "id": "124eb360",
   "metadata": {},
   "outputs": [
    {
     "data": {
      "text/plain": [
       "['Apple', 'ball', 'cat']"
      ]
     },
     "execution_count": 12,
     "metadata": {},
     "output_type": "execute_result"
    }
   ],
   "source": [
    "# ordered\n",
    "b = ['Apple','ball','cat']\n",
    "b"
   ]
  },
  {
   "cell_type": "code",
   "execution_count": 13,
   "id": "dbf94d60",
   "metadata": {},
   "outputs": [
    {
     "name": "stdout",
     "output_type": "stream",
     "text": [
      "['Apple', 'ball', 'cat', 'fish']\n"
     ]
    }
   ],
   "source": [
    "a = ['Apple','ball','cat']\n",
    "b = ['fish']\n",
    "c=a+b\n",
    "print(c)"
   ]
  },
  {
   "cell_type": "code",
   "execution_count": 14,
   "id": "1e1c9e73",
   "metadata": {},
   "outputs": [
    {
     "data": {
      "text/plain": [
       "['1', '2']"
      ]
     },
     "execution_count": 14,
     "metadata": {},
     "output_type": "execute_result"
    }
   ],
   "source": [
    "list('12')"
   ]
  },
  {
   "cell_type": "code",
   "execution_count": 15,
   "id": "39eb37dd",
   "metadata": {},
   "outputs": [
    {
     "data": {
      "text/plain": [
       "['p', 'y', 't', 'h', 'o', 'n']"
      ]
     },
     "execution_count": 15,
     "metadata": {},
     "output_type": "execute_result"
    }
   ],
   "source": [
    "list('python')"
   ]
  },
  {
   "cell_type": "code",
   "execution_count": 16,
   "id": "20e804b0",
   "metadata": {},
   "outputs": [
    {
     "data": {
      "text/plain": [
       "['apple', 'ball', 'cat']"
      ]
     },
     "execution_count": 16,
     "metadata": {},
     "output_type": "execute_result"
    }
   ],
   "source": [
    "# muteable\n",
    "b = ['Apple','ball','cat'] \n",
    "b[0]='apple'\n",
    "b"
   ]
  },
  {
   "cell_type": "code",
   "execution_count": 3,
   "id": "166dbbaf",
   "metadata": {},
   "outputs": [
    {
     "name": "stdout",
     "output_type": "stream",
     "text": [
      "Apple\n",
      "cat\n",
      "apple\n",
      "ball\n"
     ]
    }
   ],
   "source": [
    "a = ['Apple','cat','apple','ball']\n",
    "for i in a:\n",
    "    print(i)"
   ]
  },
  {
   "cell_type": "code",
   "execution_count": 19,
   "id": "3389a7fa",
   "metadata": {},
   "outputs": [
    {
     "name": "stdout",
     "output_type": "stream",
     "text": [
      "cat\n",
      "ball\n"
     ]
    }
   ],
   "source": [
    "a = ['Apple','cat','Apple','ball']\n",
    "for i in a:\n",
    "    if i !='Apple':\n",
    "        print(i)"
   ]
  },
  {
   "cell_type": "code",
   "execution_count": 20,
   "id": "46ad3ebd",
   "metadata": {},
   "outputs": [
    {
     "name": "stdout",
     "output_type": "stream",
     "text": [
      "Apple\n",
      "Apple\n"
     ]
    }
   ],
   "source": [
    "a = ['Apple','cat','Apple','ball']\n",
    "for i in a:\n",
    "    if i =='Apple':\n",
    "        print(i)"
   ]
  },
  {
   "cell_type": "code",
   "execution_count": 21,
   "id": "374080bd",
   "metadata": {},
   "outputs": [
    {
     "name": "stdout",
     "output_type": "stream",
     "text": [
      "Apple\n",
      "cat\n",
      "Apple\n",
      "ball\n"
     ]
    }
   ],
   "source": [
    "a = ['Apple','cat','Apple','ball']\n",
    "l = len(a)\n",
    "for i in range(l):\n",
    "    print(a[i])\n",
    "        "
   ]
  },
  {
   "cell_type": "code",
   "execution_count": 22,
   "id": "44f761f6",
   "metadata": {},
   "outputs": [
    {
     "name": "stdout",
     "output_type": "stream",
     "text": [
      "Enter the value of n = 2\n",
      "Enter the value of x = 12\n",
      "[12]\n",
      "Enter the value of x = 21\n",
      "[12, 21]\n"
     ]
    }
   ],
   "source": [
    "a = list()\n",
    "n = int(input(\"Enter the value of n = \"))\n",
    "for i in range(n):\n",
    "    x = int(input(\"Enter the value of x = \"))\n",
    "    a = a+[x]\n",
    "    print(a)\n",
    "        "
   ]
  },
  {
   "cell_type": "code",
   "execution_count": 23,
   "id": "7dfdd97f",
   "metadata": {},
   "outputs": [
    {
     "name": "stdout",
     "output_type": "stream",
     "text": [
      "Enter the value of n = 5\n",
      "Enter the value of x = 1\n",
      "[1]\n",
      "Enter the value of x = 2\n",
      "[1, 2]\n",
      "Enter the value of x = 3\n",
      "[1, 2, 3]\n",
      "Enter the value of x = 4\n",
      "[1, 2, 3, 4]\n",
      "Enter the value of x = 5\n",
      "[1, 2, 3, 4, 5]\n"
     ]
    }
   ],
   "source": [
    "# change in list= []\n",
    "a = list()\n",
    "n = int(input(\"Enter the value of n = \"))\n",
    "for i in range(n):\n",
    "    x = int(input(\"Enter the value of x = \"))\n",
    "    a = a+[x]\n",
    "    print(a)\n",
    "        "
   ]
  },
  {
   "cell_type": "code",
   "execution_count": 1,
   "id": "6a6af6ec",
   "metadata": {},
   "outputs": [
    {
     "name": "stdout",
     "output_type": "stream",
     "text": [
      "Enter n = 3\n",
      "Enter b = apple\n",
      "['apple']\n",
      "Enter b = mango\n",
      "['apple', 'mango']\n",
      "Enter b = orange\n",
      "['apple', 'mango', 'orange']\n"
     ]
    }
   ],
   "source": [
    "a = list()\n",
    "n = int(input(\"Enter n = \"))\n",
    "for i in range(n):\n",
    "    b = input(\"Enter b = \")\n",
    "    a=a+[b]\n",
    "    print(a)"
   ]
  },
  {
   "cell_type": "code",
   "execution_count": 3,
   "id": "d9cc6aa1",
   "metadata": {},
   "outputs": [
    {
     "name": "stdout",
     "output_type": "stream",
     "text": [
      "Enter the value of n = 3\n",
      "Enter the value of x = 2323\n",
      "[2323]\n",
      "Enter the value of x = 4322\n",
      "[2323, 4322]\n",
      "Enter the value of x = 2223\n",
      "[2323, 4322, 2223]\n"
     ]
    }
   ],
   "source": [
    "a = list()\n",
    "n = int(input(\"Enter the value of n = \"))\n",
    "for i in range(n):\n",
    "    x = int(input(\"Enter the value of x = \"))\n",
    "    a = a+[x]\n",
    "    print(a)"
   ]
  },
  {
   "cell_type": "code",
   "execution_count": 4,
   "id": "a761ca49",
   "metadata": {},
   "outputs": [
    {
     "name": "stdout",
     "output_type": "stream",
     "text": [
      "the max value =  4322\n",
      "the min value =  2223\n",
      "the sum =  8868\n"
     ]
    }
   ],
   "source": [
    "print(\"the max value = \",max(a))\n",
    "print(\"the min value = \",min(a))\n",
    "print(\"the sum = \",sum(a))"
   ]
  },
  {
   "cell_type": "code",
   "execution_count": 5,
   "id": "e9bdca58",
   "metadata": {},
   "outputs": [
    {
     "name": "stdout",
     "output_type": "stream",
     "text": [
      "Enter the value of n = 4\n",
      "Enter the value of x = 23\n",
      "[23]\n",
      "Enter the value of x = 43\n",
      "[23, 43]\n",
      "Enter the value of x = 23\n",
      "[23, 43, 23]\n",
      "Enter the value of x = 45\n",
      "[23, 43, 23, 45]\n"
     ]
    }
   ],
   "source": [
    "a = list()\n",
    "n = int(input(\"Enter the value of n = \"))\n",
    "for i in range(n):\n",
    "    x = int(input(\"Enter the value of x = \"))\n",
    "    a = a+[x]\n",
    "    print(a)"
   ]
  },
  {
   "cell_type": "code",
   "execution_count": 7,
   "id": "907b62e1",
   "metadata": {},
   "outputs": [
    {
     "name": "stdout",
     "output_type": "stream",
     "text": [
      "the max value =  45\n",
      "the min value =  23\n",
      "the sum =  134\n",
      "the avg =  33.5\n"
     ]
    }
   ],
   "source": [
    "print(\"the max value = \",max(a))\n",
    "print(\"the min value = \",min(a))\n",
    "print(\"the sum = \",sum(a))\n",
    "print(\"the avg = \",sum(a)/n)"
   ]
  },
  {
   "cell_type": "code",
   "execution_count": 10,
   "id": "7bca3f21",
   "metadata": {},
   "outputs": [
    {
     "data": {
      "text/plain": [
       "['Apple', 'Xray', 'banana', 'zebra']"
      ]
     },
     "execution_count": 10,
     "metadata": {},
     "output_type": "execute_result"
    }
   ],
   "source": [
    "# sort()= change in alphabet\n",
    "a = ['Apple','banana','zebra','Xray']\n",
    "a.sort()\n",
    "a"
   ]
  },
  {
   "cell_type": "code",
   "execution_count": null,
   "id": "1525cf36",
   "metadata": {},
   "outputs": [],
   "source": [
    "# value add in list\n",
    "append() = insert value in last\n",
    "insert() = value insert\n",
    "extend() = multiple value insert at the same time by the help of list\n",
    "\n",
    "# delete\n",
    "del/remove()/pop()\n",
    "\n",
    "# for indexing\n",
    "index() = see value\n",
    "\n",
    "# value counting\n",
    "count()\n",
    "\n",
    "# calculation\n",
    "sum()\n",
    "max()\n",
    "min()\n",
    "\n",
    "# sorting\n",
    "sort() = orginal value change\n",
    "sorted()= value change but not orginal value change \n",
    "\n",
    "\n"
   ]
  },
  {
   "cell_type": "code",
   "execution_count": 3,
   "id": "dde2f90b",
   "metadata": {},
   "outputs": [
    {
     "data": {
      "text/plain": [
       "['apple', 'cat', 'ball']"
      ]
     },
     "execution_count": 3,
     "metadata": {},
     "output_type": "execute_result"
    }
   ],
   "source": [
    "a = []\n",
    "a.append('apple')\n",
    "a.append('cat')\n",
    "a.append('ball')\n",
    "a"
   ]
  },
  {
   "cell_type": "code",
   "execution_count": 4,
   "id": "54c90c82",
   "metadata": {},
   "outputs": [
    {
     "data": {
      "text/plain": [
       "['apple', 'dog', 'cat', 'ball']"
      ]
     },
     "execution_count": 4,
     "metadata": {},
     "output_type": "execute_result"
    }
   ],
   "source": [
    "a = ['apple','dog','cat']\n",
    "a.append('ball')\n",
    "a"
   ]
  },
  {
   "cell_type": "code",
   "execution_count": 7,
   "id": "cc1bc9b7",
   "metadata": {},
   "outputs": [
    {
     "name": "stdout",
     "output_type": "stream",
     "text": [
      "Enter the value of n = 2\n",
      "Enter the value of x = apple\n",
      "Enter the value of x = dog\n",
      "['apple', 'dog']\n"
     ]
    }
   ],
   "source": [
    "a = list()\n",
    "n = int(input(\"Enter the value of n = \"))\n",
    "for i in range(n):\n",
    "    x = input(\"Enter the value of x = \")\n",
    "    a.append(x)\n",
    "print(a)"
   ]
  },
  {
   "cell_type": "code",
   "execution_count": 9,
   "id": "dd4f0a84",
   "metadata": {},
   "outputs": [
    {
     "data": {
      "text/plain": [
       "['apple', 'cat', 'Ball', 'dog']"
      ]
     },
     "execution_count": 9,
     "metadata": {},
     "output_type": "execute_result"
    }
   ],
   "source": [
    "a = ['apple','cat','dog']\n",
    "a.insert(2,'Ball')\n",
    "a"
   ]
  },
  {
   "cell_type": "code",
   "execution_count": 10,
   "id": "2d9ae099",
   "metadata": {},
   "outputs": [
    {
     "data": {
      "text/plain": [
       "['apple', 'cat', 'ball', 'dog']"
      ]
     },
     "execution_count": 10,
     "metadata": {},
     "output_type": "execute_result"
    }
   ],
   "source": [
    "a = ['apple','cat']\n",
    "b = ['ball','dog']\n",
    "a.extend(b)\n",
    "a"
   ]
  },
  {
   "cell_type": "code",
   "execution_count": 11,
   "id": "9e719093",
   "metadata": {},
   "outputs": [
    {
     "data": {
      "text/plain": [
       "['apple', 'Ball', 'Cat']"
      ]
     },
     "execution_count": 11,
     "metadata": {},
     "output_type": "execute_result"
    }
   ],
   "source": [
    "a = ['Apple','Ball','Cat']\n",
    "a[0] = 'apple'\n",
    "a"
   ]
  },
  {
   "cell_type": "code",
   "execution_count": 12,
   "id": "9ba00f55",
   "metadata": {},
   "outputs": [
    {
     "data": {
      "text/plain": [
       "['Apple', 'Cat']"
      ]
     },
     "execution_count": 12,
     "metadata": {},
     "output_type": "execute_result"
    }
   ],
   "source": [
    "a = ['Apple','Ball','Cat']\n",
    "del a[1]\n",
    "a"
   ]
  },
  {
   "cell_type": "code",
   "execution_count": 13,
   "id": "35db1429",
   "metadata": {},
   "outputs": [
    {
     "data": {
      "text/plain": [
       "['Cat', 'dog']"
      ]
     },
     "execution_count": 13,
     "metadata": {},
     "output_type": "execute_result"
    }
   ],
   "source": [
    "a = ['Apple','Ball','Cat','dog']\n",
    "del a[0:2]\n",
    "a"
   ]
  },
  {
   "cell_type": "code",
   "execution_count": 15,
   "id": "e35442bd",
   "metadata": {},
   "outputs": [
    {
     "data": {
      "text/plain": [
       "['Apple', 'Cat', 'dog']"
      ]
     },
     "execution_count": 15,
     "metadata": {},
     "output_type": "execute_result"
    }
   ],
   "source": [
    "a = ['Apple','Ball','Cat','dog']\n",
    "a.remove('Ball')\n",
    "a"
   ]
  },
  {
   "cell_type": "code",
   "execution_count": 19,
   "id": "c9193022",
   "metadata": {},
   "outputs": [
    {
     "data": {
      "text/plain": [
       "['Ball', 'Cat', 'dog']"
      ]
     },
     "execution_count": 19,
     "metadata": {},
     "output_type": "execute_result"
    }
   ],
   "source": [
    "a = ['Apple','Ball','Cat','dog','Apple']\n",
    "l=a.count(\"Apple\")\n",
    "for i in range(2):\n",
    "    a.remove(\"Apple\")\n",
    "    \n",
    "a\n"
   ]
  },
  {
   "cell_type": "code",
   "execution_count": 20,
   "id": "500c37ba",
   "metadata": {},
   "outputs": [
    {
     "data": {
      "text/plain": [
       "1"
      ]
     },
     "execution_count": 20,
     "metadata": {},
     "output_type": "execute_result"
    }
   ],
   "source": [
    "a = ['Apple','Ball','Cat','dog','Apple']\n",
    "a.index('Ball')\n"
   ]
  },
  {
   "cell_type": "code",
   "execution_count": 21,
   "id": "b2422b56",
   "metadata": {},
   "outputs": [
    {
     "data": {
      "text/plain": [
       "0"
      ]
     },
     "execution_count": 21,
     "metadata": {},
     "output_type": "execute_result"
    }
   ],
   "source": [
    "a = ['Apple','Ball','Cat','dog','Apple']\n",
    "a.index('Apple')"
   ]
  },
  {
   "cell_type": "code",
   "execution_count": 23,
   "id": "f676a0ee",
   "metadata": {},
   "outputs": [
    {
     "name": "stdout",
     "output_type": "stream",
     "text": [
      "0\n",
      "4\n"
     ]
    }
   ],
   "source": [
    "a = ['Apple','Ball','Cat','dog','Apple']\n",
    "l = len(a)\n",
    "for i in range(l):\n",
    "    if a[i]=='Apple':\n",
    "        print(i)"
   ]
  },
  {
   "cell_type": "code",
   "execution_count": 25,
   "id": "a8ef3ff6",
   "metadata": {},
   "outputs": [
    {
     "data": {
      "text/plain": [
       "['apple', 'Ball', 'Cat', 'dog', 'apple']"
      ]
     },
     "execution_count": 25,
     "metadata": {},
     "output_type": "execute_result"
    }
   ],
   "source": [
    "a = ['Apple','Ball','Cat','dog','Apple']\n",
    "l = len(a)\n",
    "for i in range(l):\n",
    "    if a[i]=='Apple':\n",
    "        a[i]='apple'\n",
    "        \n",
    "a\n",
    "     \n",
    "        "
   ]
  },
  {
   "cell_type": "code",
   "execution_count": 26,
   "id": "52e7435e",
   "metadata": {},
   "outputs": [
    {
     "name": "stdout",
     "output_type": "stream",
     "text": [
      "Enter x = Apple\n",
      "Enter y = apple\n"
     ]
    },
    {
     "data": {
      "text/plain": [
       "['apple', 'Ball', 'Cat', 'dog', 'apple']"
      ]
     },
     "execution_count": 26,
     "metadata": {},
     "output_type": "execute_result"
    }
   ],
   "source": [
    "a = ['Apple','Ball','Cat','dog','Apple']\n",
    "b = []\n",
    "x = input(\"Enter x = \")\n",
    "y = input(\"Enter y = \")\n",
    "for i in a:\n",
    "    if i==x:\n",
    "        b.append(y)\n",
    "    else:\n",
    "        b.append(i)\n",
    "        \n",
    "b\n"
   ]
  },
  {
   "cell_type": "code",
   "execution_count": 27,
   "id": "bccf4d28",
   "metadata": {},
   "outputs": [
    {
     "name": "stdout",
     "output_type": "stream",
     "text": [
      "yes 2\n"
     ]
    }
   ],
   "source": [
    "a = ['Apple','Ball','Cat','dog','Apple']\n",
    "if \"Apple\" in a:\n",
    "    print(\"yes\",a.count(\"Apple\"))"
   ]
  },
  {
   "cell_type": "code",
   "execution_count": 29,
   "id": "a3951750",
   "metadata": {},
   "outputs": [
    {
     "name": "stdout",
     "output_type": "stream",
     "text": [
      "2\n"
     ]
    }
   ],
   "source": [
    "a = ['Apple','Ball','Cat','dog','Apple']\n",
    "print(a.count(\"Apple\"))"
   ]
  },
  {
   "cell_type": "code",
   "execution_count": 30,
   "id": "03537245",
   "metadata": {},
   "outputs": [],
   "source": [
    "# WAP to search any value inside a list."
   ]
  },
  {
   "cell_type": "code",
   "execution_count": 31,
   "id": "88c8304a",
   "metadata": {},
   "outputs": [],
   "source": [
    "# list inside list(nested_list)\n",
    "a = [['Ram',45,'kathmandu'],\n",
    "    ['Shyam',35,'Bhaktapur'],\n",
    "    ['Hari',28,'Lalitput']]\n",
    "\n",
    "b = [[1,2,4],\n",
    "    [5,6,7],\n",
    "    [8,9,10]]"
   ]
  },
  {
   "cell_type": "code",
   "execution_count": 33,
   "id": "f2f57e9f",
   "metadata": {},
   "outputs": [
    {
     "data": {
      "text/plain": [
       "['Hari', 28, 'Lalitput']"
      ]
     },
     "execution_count": 33,
     "metadata": {},
     "output_type": "execute_result"
    }
   ],
   "source": [
    "a[2]"
   ]
  },
  {
   "cell_type": "code",
   "execution_count": 5,
   "id": "f6f775c7",
   "metadata": {},
   "outputs": [
    {
     "data": {
      "text/plain": [
       "'kathmandu'"
      ]
     },
     "execution_count": 5,
     "metadata": {},
     "output_type": "execute_result"
    }
   ],
   "source": [
    "a = [['Ram',45,'kathmandu'],\n",
    "    ['Shyam',35,'Bhaktapur'],\n",
    "    ['Hari',28,'Lalitput']]\n",
    "\n",
    "b = [[1,2,4],\n",
    "    [5,6,7],\n",
    "    [8,9,10]]\n",
    "\n",
    "a[0][2]"
   ]
  },
  {
   "cell_type": "code",
   "execution_count": 6,
   "id": "1ed0e145",
   "metadata": {},
   "outputs": [
    {
     "data": {
      "text/plain": [
       "[['Ram', 45, 'kathmandu'],\n",
       " ['Shyam', 35, 'Bhaktapur'],\n",
       " ['Hari', 28, 'Lalitput'],\n",
       " ['sita', 20, 'rara']]"
      ]
     },
     "execution_count": 6,
     "metadata": {},
     "output_type": "execute_result"
    }
   ],
   "source": [
    "a.append(['sita',20,'rara'])\n",
    "a"
   ]
  },
  {
   "cell_type": "code",
   "execution_count": 7,
   "id": "e0cc2bfc",
   "metadata": {},
   "outputs": [
    {
     "data": {
      "text/plain": [
       "[['Ram', 45, 'kathmandu'],\n",
       " ['Sarita', 19, 'btwl'],\n",
       " ['Shyam', 35, 'Bhaktapur'],\n",
       " ['Hari', 28, 'Lalitput'],\n",
       " ['sita', 20, 'rara']]"
      ]
     },
     "execution_count": 7,
     "metadata": {},
     "output_type": "execute_result"
    }
   ],
   "source": [
    "a.insert(1,['Sarita',19,'btwl'])\n",
    "a"
   ]
  },
  {
   "cell_type": "code",
   "execution_count": 8,
   "id": "3613109f",
   "metadata": {},
   "outputs": [
    {
     "name": "stdout",
     "output_type": "stream",
     "text": [
      "['Ram', 45, 'kathmandu']\n",
      "['Sarita', 19, 'btwl']\n",
      "['Shyam', 35, 'Bhaktapur']\n",
      "['Hari', 28, 'Lalitput']\n",
      "['sita', 20, 'rara']\n"
     ]
    }
   ],
   "source": [
    "for i in a:\n",
    "    print(i)"
   ]
  },
  {
   "cell_type": "code",
   "execution_count": 10,
   "id": "90332421",
   "metadata": {},
   "outputs": [
    {
     "name": "stdout",
     "output_type": "stream",
     "text": [
      "Enter name = Ram\n",
      "['Ram', 45, 'kathmandu']\n"
     ]
    }
   ],
   "source": [
    "search = input(\"Enter name = \")\n",
    "for i in a:\n",
    "    if search in i:\n",
    "        print(i)"
   ]
  },
  {
   "cell_type": "code",
   "execution_count": 44,
   "id": "7774c776",
   "metadata": {},
   "outputs": [
    {
     "data": {
      "text/plain": [
       "[['Ram', 45, 'kathmandu'],\n",
       " ['Sarita', 19, 'btwl'],\n",
       " ['Shyam', 35, 'Bhaktapur'],\n",
       " ['Hari', 28, 'Lalitput'],\n",
       " ['sita', 20, 'rara'],\n",
       " ['sita', 20, 'rara']]"
      ]
     },
     "execution_count": 44,
     "metadata": {},
     "output_type": "execute_result"
    }
   ],
   "source": [
    "a"
   ]
  },
  {
   "cell_type": "code",
   "execution_count": 43,
   "id": "c135e681",
   "metadata": {},
   "outputs": [
    {
     "name": "stdout",
     "output_type": "stream",
     "text": [
      "Enter name = Shyam\n",
      "['Shyam', 35, 'Bhaktapur']\n"
     ]
    }
   ],
   "source": [
    "b = input(\"Enter name = \")\n",
    "for i in a:\n",
    "    if b in i:\n",
    "        print(i)"
   ]
  },
  {
   "cell_type": "code",
   "execution_count": 47,
   "id": "a5d2d7f9",
   "metadata": {},
   "outputs": [
    {
     "data": {
      "text/plain": [
       "[['Ram', 45, 'kathmandu'],\n",
       " ['Shyam', 35, 'Bhaktapur'],\n",
       " ['Hira', 28, 'Lalitput']]"
      ]
     },
     "execution_count": 47,
     "metadata": {},
     "output_type": "execute_result"
    }
   ],
   "source": [
    "a = [['Ram',45,'kathmandu'],\n",
    "    ['Shyam',35,'Bhaktapur'],\n",
    "    ['Hari',28,'Lalitput']]\n",
    "a[2][0] = 'Hira'\n",
    "a"
   ]
  },
  {
   "cell_type": "code",
   "execution_count": null,
   "id": "6f8b055d",
   "metadata": {},
   "outputs": [],
   "source": [
    "# WAP to create a matrix\n",
    "# r = ?\n",
    "# c = ?\n",
    "# x = ?\n",
    "\n",
    "# WAP to remove duplicate data in list inside list"
   ]
  }
 ],
 "metadata": {
  "kernelspec": {
   "display_name": "Python 3 (ipykernel)",
   "language": "python",
   "name": "python3"
  },
  "language_info": {
   "codemirror_mode": {
    "name": "ipython",
    "version": 3
   },
   "file_extension": ".py",
   "mimetype": "text/x-python",
   "name": "python",
   "nbconvert_exporter": "python",
   "pygments_lexer": "ipython3",
   "version": "3.9.12"
  }
 },
 "nbformat": 4,
 "nbformat_minor": 5
}
