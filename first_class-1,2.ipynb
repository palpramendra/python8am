{
 "cells": [
  {
   "cell_type": "code",
   "execution_count": 1,
   "id": "df37300c",
   "metadata": {},
   "outputs": [
    {
     "name": "stdout",
     "output_type": "stream",
     "text": [
      "12\n"
     ]
    }
   ],
   "source": [
    "a=12\n",
    "print(a)"
   ]
  },
  {
   "cell_type": "code",
   "execution_count": 2,
   "id": "1d313305",
   "metadata": {},
   "outputs": [
    {
     "name": "stdout",
     "output_type": "stream",
     "text": [
      "Hello worldd\n"
     ]
    }
   ],
   "source": [
    "a=\"Hello worldd\"\n",
    "print(a)"
   ]
  },
  {
   "cell_type": "code",
   "execution_count": 2,
   "id": "2e5e76ff",
   "metadata": {},
   "outputs": [
    {
     "name": "stdout",
     "output_type": "stream",
     "text": [
      "10\n",
      "21.23\n",
      "Hello world\n",
      "False\n",
      "10 21.23 Hello world False\n"
     ]
    }
   ],
   "source": [
    "a=10\n",
    "b=21.23\n",
    "c=\"Hello world\"\n",
    "d=False\n",
    "print(a)\n",
    "print(b)\n",
    "print(c)\n",
    "print(d)\n",
    "print(a,b,c,d)"
   ]
  },
  {
   "cell_type": "code",
   "execution_count": 4,
   "id": "c6fd96a8",
   "metadata": {},
   "outputs": [
    {
     "name": "stdout",
     "output_type": "stream",
     "text": [
      "10 <class 'int'>\n",
      "21.23 <class 'float'>\n",
      "Hello world <class 'str'>\n",
      "False <class 'bool'>\n"
     ]
    }
   ],
   "source": [
    "print(a,type(a))\n",
    "print(b,type(b))\n",
    "print(c,type(c))\n",
    "print(d,type(d))"
   ]
  },
  {
   "cell_type": "code",
   "execution_count": 5,
   "id": "e88fce3e",
   "metadata": {},
   "outputs": [],
   "source": [
    "# string\n",
    "# a=\"Hello world\"\n",
    "# a='Hello world'\n",
    "# a='''Hello world'''"
   ]
  },
  {
   "cell_type": "code",
   "execution_count": 6,
   "id": "0df847a4",
   "metadata": {},
   "outputs": [],
   "source": [
    "# + - * / ** //"
   ]
  },
  {
   "cell_type": "code",
   "execution_count": 8,
   "id": "c6ce22f5",
   "metadata": {},
   "outputs": [
    {
     "name": "stdout",
     "output_type": "stream",
     "text": [
      "24.5\n"
     ]
    }
   ],
   "source": [
    "a=12\n",
    "b=12.5\n",
    "c=a+b\n",
    "print(c)"
   ]
  },
  {
   "cell_type": "code",
   "execution_count": 10,
   "id": "6fcb018c",
   "metadata": {},
   "outputs": [
    {
     "name": "stdout",
     "output_type": "stream",
     "text": [
      "10000\n"
     ]
    }
   ],
   "source": [
    "a=10\n",
    "b=4\n",
    "print(a**b)"
   ]
  },
  {
   "cell_type": "code",
   "execution_count": 11,
   "id": "16abeef9",
   "metadata": {},
   "outputs": [
    {
     "name": "stdout",
     "output_type": "stream",
     "text": [
      "3\n"
     ]
    }
   ],
   "source": [
    "a=180\n",
    "b=50\n",
    "c=a//b\n",
    "print(c)"
   ]
  },
  {
   "cell_type": "code",
   "execution_count": 12,
   "id": "32d862da",
   "metadata": {},
   "outputs": [
    {
     "name": "stdout",
     "output_type": "stream",
     "text": [
      "754.385\n"
     ]
    }
   ],
   "source": [
    "r=15.5\n",
    "a=3.14*15.5**2\n",
    "print(a)"
   ]
  },
  {
   "cell_type": "code",
   "execution_count": 13,
   "id": "9df6c6a5",
   "metadata": {},
   "outputs": [
    {
     "data": {
      "text/plain": [
       "25"
      ]
     },
     "execution_count": 13,
     "metadata": {},
     "output_type": "execute_result"
    }
   ],
   "source": [
    "a='25'\n",
    "b=int(a)\n",
    "b"
   ]
  },
  {
   "cell_type": "code",
   "execution_count": 14,
   "id": "c1a6083c",
   "metadata": {},
   "outputs": [
    {
     "data": {
      "text/plain": [
       "'12'"
      ]
     },
     "execution_count": 14,
     "metadata": {},
     "output_type": "execute_result"
    }
   ],
   "source": [
    "a=12\n",
    "b=str(a)\n",
    "b"
   ]
  },
  {
   "cell_type": "code",
   "execution_count": 2,
   "id": "d12915c3",
   "metadata": {},
   "outputs": [
    {
     "data": {
      "text/plain": [
       "14.0"
      ]
     },
     "execution_count": 2,
     "metadata": {},
     "output_type": "execute_result"
    }
   ],
   "source": [
    "a=14\n",
    "b=float(a)\n",
    "b"
   ]
  },
  {
   "cell_type": "code",
   "execution_count": 3,
   "id": "707bb86e",
   "metadata": {},
   "outputs": [
    {
     "name": "stdout",
     "output_type": "stream",
     "text": [
      "Enter a : 12\n",
      "Enter b : 12\n",
      "24\n"
     ]
    }
   ],
   "source": [
    "a = int(input(\"Enter a : \"))\n",
    "b = int(input(\"Enter b : \"))\n",
    "c = a+b\n",
    "print(c)"
   ]
  },
  {
   "cell_type": "code",
   "execution_count": 5,
   "id": "53f45b9d",
   "metadata": {},
   "outputs": [
    {
     "name": "stdout",
     "output_type": "stream",
     "text": [
      "Enter a : 45\n",
      "Enter b : 5\n",
      "sum of two no :  50\n"
     ]
    }
   ],
   "source": [
    "a = int(input(\"Enter a : \"))\n",
    "b = int(input(\"Enter b : \"))\n",
    "print(\"sum of two no : \",a+b)"
   ]
  },
  {
   "cell_type": "code",
   "execution_count": 7,
   "id": "1131788d",
   "metadata": {},
   "outputs": [
    {
     "name": "stdout",
     "output_type": "stream",
     "text": [
      "Enter p : 12\n",
      "Enter t : 23\n",
      "Enter r : 1.3\n",
      "The value of i : 3.588\n"
     ]
    }
   ],
   "source": [
    "p = float(input(\"Enter p : \"))\n",
    "t = float(input(\"Enter t : \"))\n",
    "r = float(input(\"Enter r : \"))\n",
    "i = p*t*r/100\n",
    "print(\"The value of i :\",i)\n"
   ]
  },
  {
   "cell_type": "code",
   "execution_count": null,
   "id": "ac2f37a5",
   "metadata": {},
   "outputs": [],
   "source": []
  }
 ],
 "metadata": {
  "kernelspec": {
   "display_name": "Python 3 (ipykernel)",
   "language": "python",
   "name": "python3"
  },
  "language_info": {
   "codemirror_mode": {
    "name": "ipython",
    "version": 3
   },
   "file_extension": ".py",
   "mimetype": "text/x-python",
   "name": "python",
   "nbconvert_exporter": "python",
   "pygments_lexer": "ipython3",
   "version": "3.9.12"
  }
 },
 "nbformat": 4,
 "nbformat_minor": 5
}
